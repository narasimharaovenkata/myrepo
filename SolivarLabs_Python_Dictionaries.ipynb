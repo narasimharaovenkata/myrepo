{
 "cells": [
  {
   "cell_type": "markdown",
   "metadata": {},
   "source": [
    "### Dictonaries\n",
    "As in a Dictonary , we have a word and its meaning, In python datastructure dictonary also has the key and value pairs. <br>\n",
    "\n",
    "Dictonary start with { and end with } and key value pairs are written as key:value and there could be multiple keyvalue pairs seperated by comma, as below <br>\n",
    "{'key1':'value1', 'key2':'value2', 'key3':'value3', 'key4':'value4'}<br>\n",
    "\n",
    "Below is our billing program rewritten using dictonaries for product costs.<br>"
   ]
  },
  {
   "cell_type": "code",
   "execution_count": null,
   "metadata": {
    "collapsed": true
   },
   "outputs": [],
   "source": [
    "product_costs = {'A':10,'B':20,'C':30,'Others':30}\n",
    "bill_amount = 0\n",
    "#Below is a function defintion \n",
    "def apply_discount(amount,discount):\n",
    "    #amount and discount are he parameters to the function\n",
    "    final_amount = amount - (amount*discount)/100\n",
    "    #final_amount is the return value from function, if there is nothing you can say return None\n",
    "    return final_amount\n",
    "\n",
    "for i in range(5):\n",
    "    #To take input from users\n",
    "    product_name  = input(\"Enter the product Name, A, B, C, NM(No more): \")\n",
    "    if(product_name == \"NM\"):\n",
    "        break\n",
    "    elif(product_name not in product_costs.keys() ):\n",
    "        print(\"Invalid product Name, check it again - \",product_name)\n",
    "        continue\n",
    "    elif(product_name in product_costs.keys()):\n",
    "        no_of_prods = input(\"Enter the number of products: \")\n",
    "        bill_amount += int(no_of_prods)*product_costs[product_name]\n",
    "    \n",
    "\n",
    "print(\"\\nYour bill before discount - \",bill_amount)\n",
    "#This is how the function call with arguments or parameters will work  \n",
    "final_bill_amount = apply_discount(bill_amount,20)\n",
    "print(\"Your Final bill after discount - \",final_bill_amount)\n",
    "print(\"you saved - \",bill_amount - final_bill_amount)"
   ]
  },
  {
   "cell_type": "markdown",
   "metadata": {},
   "source": [
    "#### Methods on Dictionaires"
   ]
  },
  {
   "cell_type": "code",
   "execution_count": null,
   "metadata": {
    "collapsed": true
   },
   "outputs": [],
   "source": [
    "#No of key value pairs in dictionary. \n",
    "print(len(product_costs))"
   ]
  },
  {
   "cell_type": "code",
   "execution_count": null,
   "metadata": {
    "collapsed": true
   },
   "outputs": [],
   "source": [
    "#Converting a squence of keys into a dictonary\n",
    "col_names = ['Name','Age','Gender','Class']\n",
    "print(dict.fromkeys(col_names))\n",
    "print(dict.fromkeys(col_names, \"Sample\"))"
   ]
  },
  {
   "cell_type": "code",
   "execution_count": null,
   "metadata": {
    "collapsed": true
   },
   "outputs": [],
   "source": [
    "#Power of dictonary lies in providing access through keys\n",
    "print(\"Value of a key A - \",product_costs.get('A'))\n",
    "print(\"Value of a Key D - \",product_costs.get('D','Not Available'))\n",
    "#most of the times given a dictonary from other program, we need to check if the key exists before accessing it. \n",
    "print('D' in product_costs)\n",
    "print('B' in product_costs)"
   ]
  },
  {
   "cell_type": "code",
   "execution_count": null,
   "metadata": {
    "collapsed": true
   },
   "outputs": [],
   "source": [
    "#list of items in Dictonaries in the form of tuples, convert to loist to access it \n",
    "print(list(product_costs.items()))\n",
    "#list of keys in dictonary\n",
    "print(product_costs.keys())\n"
   ]
  },
  {
   "cell_type": "code",
   "execution_count": null,
   "metadata": {
    "collapsed": true
   },
   "outputs": [],
   "source": [
    "#list of Values in dictionary\n",
    "print(product_costs.values())#Sometimes when we add key value pairs we are not sure, if there are already a key value in the dictionary\n",
    "product_costs.setdefault(\"D\",15)\n",
    "print(product_costs)"
   ]
  },
  {
   "cell_type": "markdown",
   "metadata": {},
   "source": [
    "* For more info about dictionary fucntions [refer this link](https://docs.python.org/3/library/stdtypes.html#dict)"
   ]
  },
  {
   "cell_type": "markdown",
   "metadata": {},
   "source": [
    "### Complete  [Try it #12](SolivarLabs_Python_Excercises.ipynb#Try-it-#12)\n"
   ]
  }
 ],
 "metadata": {
  "kernelspec": {
   "display_name": "Python 3",
   "language": "python",
   "name": "python3"
  },
  "language_info": {
   "codemirror_mode": {
    "name": "ipython",
    "version": 3
   },
   "file_extension": ".py",
   "mimetype": "text/x-python",
   "name": "python",
   "nbconvert_exporter": "python",
   "pygments_lexer": "ipython3",
   "version": "3.6.3"
  }
 },
 "nbformat": 4,
 "nbformat_minor": 2
}
