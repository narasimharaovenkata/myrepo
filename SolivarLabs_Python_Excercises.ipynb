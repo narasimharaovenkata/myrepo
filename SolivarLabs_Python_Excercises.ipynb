{
 "cells": [
  {
   "cell_type": "markdown",
   "metadata": {},
   "source": [
    "### Try it #01\n",
    "Now write a program which prints Hello to the world !!!<br>\n",
    "(after typing the code , press Shift+Enter to run it)"
   ]
  },
  {
   "cell_type": "code",
   "execution_count": 6,
   "metadata": {
    "collapsed": true
   },
   "outputs": [],
   "source": [
    "#Add your code here\n"
   ]
  },
  {
   "cell_type": "markdown",
   "metadata": {},
   "source": [
    "### Try it #02\n",
    "Assign value 100 to a <br> \n",
    "Check the type of a <br>\n",
    "Assign value a*2.3 to a <br>\n",
    "Check the type of a <br>\n",
    "Assign value \"checkType\" to a <br>\n",
    "check the type of a <br>\n",
    "try changing the value of a from int, float, string, boolean and verify types. "
   ]
  },
  {
   "cell_type": "code",
   "execution_count": 11,
   "metadata": {
    "collapsed": true
   },
   "outputs": [],
   "source": [
    "#Add your code here\n"
   ]
  },
  {
   "cell_type": "markdown",
   "metadata": {},
   "source": [
    "### Try it #03\n",
    "\n",
    "Apply all arthimetic values on 23 and 4"
   ]
  },
  {
   "cell_type": "code",
   "execution_count": null,
   "metadata": {
    "collapsed": true
   },
   "outputs": [],
   "source": [
    "#Add your code here\n"
   ]
  },
  {
   "cell_type": "markdown",
   "metadata": {},
   "source": [
    "### Try it #04\n",
    "\n",
    "Apply all comparission operators on 1 and -1"
   ]
  },
  {
   "cell_type": "code",
   "execution_count": null,
   "metadata": {
    "collapsed": true
   },
   "outputs": [],
   "source": [
    "#Add your code here\n"
   ]
  },
  {
   "cell_type": "markdown",
   "metadata": {},
   "source": [
    "### Try it #05\n",
    "\n",
    "Apply Logical Operators for a = True and b = False"
   ]
  },
  {
   "cell_type": "code",
   "execution_count": null,
   "metadata": {
    "collapsed": true
   },
   "outputs": [],
   "source": [
    "#Add your code here\n"
   ]
  },
  {
   "cell_type": "markdown",
   "metadata": {},
   "source": [
    "### Try it #06\n",
    "\n",
    "Create a table with rows 0 0, 0 1, 1 0, 1 1, 1, 0 and columns as &, |, ^, ~, >>, <<\n",
    "Fill the table with results\n"
   ]
  },
  {
   "cell_type": "code",
   "execution_count": null,
   "metadata": {
    "collapsed": true
   },
   "outputs": [],
   "source": [
    "#Add your code here\n"
   ]
  },
  {
   "cell_type": "markdown",
   "metadata": {
    "collapsed": true
   },
   "source": [
    "### Try it #07\n",
    "\n",
    "Somu came to a store and bought 2 products A and B.<br> \n",
    "Product A cost 10 and Product B cost 20. <br>\n",
    "Take input from Somu needs how many product A ? <br>\n",
    "and how many product B ? <br>\n",
    "As Somu is a regular customer give him 10% discount (use [Arthimetic operations](#Arthmetic-Operators)) <br>\n",
    "Tell Somu, what is the final bill. "
   ]
  },
  {
   "cell_type": "code",
   "execution_count": null,
   "metadata": {
    "collapsed": true
   },
   "outputs": [],
   "source": [
    "#Add your code here\n"
   ]
  },
  {
   "cell_type": "markdown",
   "metadata": {},
   "source": [
    "### Try it #08\n",
    "\n",
    "Take the program you wrote in [Try it #07]()<br>\n",
    "pass the product A and B prices as arguments and take the values from sys.argv<br>\n",
    "and rerun the program. "
   ]
  },
  {
   "cell_type": "code",
   "execution_count": null,
   "metadata": {
    "collapsed": true
   },
   "outputs": [],
   "source": [
    "#Add your code here\n"
   ]
  },
  {
   "cell_type": "markdown",
   "metadata": {},
   "source": [
    "### Try it #09\n",
    "You are back from US and you have only dollars, so you want to convert to Rupees, you went to money exchange center. the person there will ask you how many dollars ? he will convert it to ruppees, deduct conversion charge and tell you the amount you will get. \n",
    "\n",
    "Write a function which will take money in dollars and return rupees (use 1 dollar = 65 Rs)\n",
    "Write another function which deduct 1% of the convert money as conversion charge and give the result to customer"
   ]
  },
  {
   "cell_type": "code",
   "execution_count": null,
   "metadata": {
    "collapsed": true
   },
   "outputs": [],
   "source": [
    "#Add your code here\n"
   ]
  },
  {
   "cell_type": "markdown",
   "metadata": {},
   "source": [
    "### Try it #10\n",
    "Does this program work in real world ?<br>\n",
    "<i>when someone asks you this question, you need to look at your solution and see what your assumptions in the program, did you cover both success and failure steps at each stage. </i>\n",
    "Before moving to the next section, Identify the gaps in above program which helps in calculating Somu bill and write your program below?<br>\n",
    "<b>It should include all above concepts</b>"
   ]
  },
  {
   "cell_type": "code",
   "execution_count": null,
   "metadata": {
    "collapsed": true
   },
   "outputs": [],
   "source": [
    "#Write your program here \n"
   ]
  },
  {
   "cell_type": "markdown",
   "metadata": {},
   "source": [
    "### Try it #11\n",
    "\n",
    "Take the billing system program and rewrite it using 2 data structures as <br>\n",
    "products_list, Product_cost_list   <br>\n",
    "Where ever you are accessing product names and costs you should use lists <br>"
   ]
  },
  {
   "cell_type": "code",
   "execution_count": null,
   "metadata": {
    "collapsed": true
   },
   "outputs": [],
   "source": [
    "#Add your code here\n"
   ]
  }
 ],
 "metadata": {
  "kernelspec": {
   "display_name": "Python 3",
   "language": "python",
   "name": "python3"
  },
  "language_info": {
   "codemirror_mode": {
    "name": "ipython",
    "version": 3
   },
   "file_extension": ".py",
   "mimetype": "text/x-python",
   "name": "python",
   "nbconvert_exporter": "python",
   "pygments_lexer": "ipython3",
   "version": "3.6.1"
  }
 },
 "nbformat": 4,
 "nbformat_minor": 2
}
