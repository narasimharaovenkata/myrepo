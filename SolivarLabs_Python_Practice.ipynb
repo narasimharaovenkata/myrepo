{
 "cells": [
  {
   "cell_type": "markdown",
   "metadata": {},
   "source": [
    "# Intro to Python \n",
    "\n",
    "### Copyright by Solivarlabs"
   ]
  },
  {
   "cell_type": "markdown",
   "metadata": {},
   "source": [
    "Python is easy to learn, understand and debug\n",
    "\n",
    "Python is interpreted, that means"
   ]
  },
  {
   "cell_type": "code",
   "execution_count": 3,
   "metadata": {},
   "outputs": [
    {
     "data": {
      "text/plain": [
       "105"
      ]
     },
     "execution_count": 3,
     "metadata": {},
     "output_type": "execute_result"
    }
   ],
   "source": [
    "15 * 5 + 10 * 3"
   ]
  },
  {
   "cell_type": "code",
   "execution_count": 4,
   "metadata": {},
   "outputs": [
    {
     "data": {
      "text/plain": [
       "16.0"
      ]
     },
     "execution_count": 4,
     "metadata": {},
     "output_type": "execute_result"
    }
   ],
   "source": [
    "16384/1024"
   ]
  },
  {
   "cell_type": "markdown",
   "metadata": {},
   "source": [
    "code is executed line by line. \n",
    "\n",
    "We don't need a main function or standard structure to run code in python."
   ]
  },
  {
   "cell_type": "markdown",
   "metadata": {},
   "source": [
    "## Install Python"
   ]
  },
  {
   "cell_type": "markdown",
   "metadata": {},
   "source": [
    "Download and Install [Python Annaconda](https://www.anaconda.com/download/)\n",
    "\n",
    "Open Anaconda Navigator > Launch Jupyter > New-Notebook-Python3"
   ]
  },
  {
   "cell_type": "markdown",
   "metadata": {},
   "source": [
    "### What are we going to learn \n",
    "\n",
    " [First program](#First-Program)<br>\n",
    " [Variables and Types](#Variables-and-Types)<br>\n",
    " [Numbers and Math](#Numbers-and-Math)<br>\n",
    " [Input from users](#Input-from-users)<br>\n",
    " [Passing arguments](#Passing-Arguments)<br>\n",
    " Indentation and Block of code<br>\n",
    " Functions, Parameters, Returns<br>\n",
    " Conditional statements - If elif else<br>\n",
    " Loops - For and While <br>\n",
    " Lists<br>\n",
    " Dictonaries<br>\n",
    " Tuples and Sets<br>\n",
    " Strings<br>\n",
    " File Operations<br>"
   ]
  },
  {
   "cell_type": "markdown",
   "metadata": {},
   "source": [
    "Additional Content:\n",
    "Null --> None in Python\n",
    "Conversion of Data types\n",
    "List comprehension\n"
   ]
  },
  {
   "cell_type": "markdown",
   "metadata": {},
   "source": [
    "# First Program "
   ]
  },
  {
   "cell_type": "code",
   "execution_count": 5,
   "metadata": {},
   "outputs": [
    {
     "name": "stdout",
     "output_type": "stream",
     "text": [
      "I want to learn Python\n",
      "I love programming\n",
      "This is the way to print output in Python\n"
     ]
    }
   ],
   "source": [
    "print(\"I want to learn Python\")\n",
    "print(\"I love programming\")\n",
    "print(\"This is the way to print output in Python\")"
   ]
  },
  {
   "cell_type": "markdown",
   "metadata": {},
   "source": [
    "### Try it #01\n",
    "Now write a program which prints Hello to the world !!!<br>\n",
    "(after typing the code , press Shift+Enter to run it)"
   ]
  },
  {
   "cell_type": "code",
   "execution_count": 6,
   "metadata": {
    "collapsed": true
   },
   "outputs": [],
   "source": [
    "#Add your code here\n"
   ]
  },
  {
   "cell_type": "markdown",
   "metadata": {},
   "source": [
    "# Variables and Types \n",
    "\n",
    "Variables are used to store & access data<br>\n",
    "Most of the programs are targeted at processing data, in such programs we need to access store and output different kinds of data. <br>\n",
    "Variables with specific Types are useful in such cases. Find examples below. \n"
   ]
  },
  {
   "cell_type": "code",
   "execution_count": 7,
   "metadata": {},
   "outputs": [
    {
     "name": "stdout",
     "output_type": "stream",
     "text": [
      "10\n",
      "20\n"
     ]
    }
   ],
   "source": [
    "\n",
    "x = 10\n",
    "y = 20 \n",
    "print(x)\n",
    "print(y)"
   ]
  },
  {
   "cell_type": "code",
   "execution_count": 8,
   "metadata": {},
   "outputs": [
    {
     "name": "stdout",
     "output_type": "stream",
     "text": [
      "type of x is  <class 'int'>\n",
      "type of a is  <class 'float'>\n",
      "type of b is  <class 'str'>\n",
      "type of c is  <class 'bool'>\n"
     ]
    }
   ],
   "source": [
    "#to know the type of a variable we will use type method as below\n",
    "print(\"type of x is \",type(x))\n",
    "a = 10.0\n",
    "print(\"type of a is \",type(a))\n",
    "b = \"python\"\n",
    "print(\"type of b is \",type(b))\n",
    "c = True\n",
    "print(\"type of c is \",type(c))\n",
    "\n",
    "\n"
   ]
  },
  {
   "cell_type": "markdown",
   "metadata": {},
   "source": [
    "As you see variables are not tightly coupled with types, see below example on how a single variable will change types basing pn input value. "
   ]
  },
  {
   "cell_type": "code",
   "execution_count": 9,
   "metadata": {},
   "outputs": [
    {
     "name": "stdout",
     "output_type": "stream",
     "text": [
      "type of x is  <class 'int'>\n",
      "type of x is  <class 'float'>\n",
      "type of x is  <class 'str'>\n",
      "type of x is  <class 'bool'>\n"
     ]
    }
   ],
   "source": [
    "x = 10\n",
    "print(\"type of x is \",type(x))\n",
    "x = 2.3\n",
    "print(\"type of x is \",type(x))\n",
    "x = \"sameVariableName\"\n",
    "print(\"type of x is \",type(x))\n",
    "x = False\n",
    "print(\"type of x is \",type(x))"
   ]
  },
  {
   "cell_type": "markdown",
   "metadata": {},
   "source": [
    "### Type Conversions \n",
    "In some situation , we need to convert one type to other for doing some operation. \n",
    "\n",
    "Predefined methods may return specific type , but for processing or calculations we may need to convert. "
   ]
  },
  {
   "cell_type": "code",
   "execution_count": 10,
   "metadata": {},
   "outputs": [
    {
     "name": "stdout",
     "output_type": "stream",
     "text": [
      "type of str is  1  -  <class 'str'>\n",
      "type of int(str) is  1  -  <class 'int'>\n",
      "type of float(str) is  1.0  -  <class 'float'>\n",
      "type of bool(str) is  True  -  <class 'bool'>\n"
     ]
    }
   ],
   "source": [
    "str = \"1\"\n",
    "print(\"type of str is \",str, \" - \", type(str))\n",
    "\n",
    "#Converted to int\n",
    "print(\"type of int(str) is \",int(str), \" - \",type(int(str)))\n",
    "\n",
    "#Converted to float\n",
    "print(\"type of float(str) is \",float(str), \" - \",type(float(str)))\n",
    "\n",
    "#Converted to bolean\n",
    "print(\"type of bool(str) is \",bool(str), \" - \",type(bool(str)))"
   ]
  },
  {
   "cell_type": "markdown",
   "metadata": {},
   "source": [
    "### Try it #02\n",
    "Assign value 100 to a <br> \n",
    "Check the type of a <br>\n",
    "Assign value a*2.3 to a <br>\n",
    "Check the type of a <br>\n",
    "Assign value \"checkType\" to a <br>\n",
    "check the type of a <br>\n",
    "try changing the value of a from int, float, string, boolean and verify types. "
   ]
  },
  {
   "cell_type": "code",
   "execution_count": 11,
   "metadata": {
    "collapsed": true
   },
   "outputs": [],
   "source": [
    "#Add your code here\n"
   ]
  },
  {
   "cell_type": "markdown",
   "metadata": {},
   "source": [
    "# Numbers and Math\n",
    "\n",
    "Calculations are core part of Programing (Data processing) <br>\n",
    "How many users registered today ? <br>\n",
    "What is the final bill with shipping ? <br> \n",
    "Total number of Visitors to the website ? "
   ]
  },
  {
   "cell_type": "code",
   "execution_count": 12,
   "metadata": {},
   "outputs": [
    {
     "data": {
      "text/plain": [
       "120"
      ]
     },
     "execution_count": 12,
     "metadata": {},
     "output_type": "execute_result"
    }
   ],
   "source": [
    "#Registered: 15 users each in 8 centers\n",
    "15*8"
   ]
  },
  {
   "cell_type": "code",
   "execution_count": 13,
   "metadata": {},
   "outputs": [
    {
     "data": {
      "text/plain": [
       "119"
      ]
     },
     "execution_count": 13,
     "metadata": {},
     "output_type": "execute_result"
    }
   ],
   "source": [
    "#Final Bill: 4 items of 12, 26, 29, 32 each and Shipping of 20\n",
    "12 + 26 + 29 + 32 + 20"
   ]
  },
  {
   "cell_type": "markdown",
   "metadata": {},
   "source": [
    "## Lets learn few python operators we can use with numbers"
   ]
  },
  {
   "cell_type": "markdown",
   "metadata": {},
   "source": [
    "### Arthmetic Operators"
   ]
  },
  {
   "cell_type": "code",
   "execution_count": 14,
   "metadata": {},
   "outputs": [
    {
     "name": "stdout",
     "output_type": "stream",
     "text": [
      "For given a = 10.0  For given b = python\n"
     ]
    },
    {
     "ename": "TypeError",
     "evalue": "unsupported operand type(s) for +: 'float' and 'str'",
     "output_type": "error",
     "traceback": [
      "\u001b[1;31m---------------------------------------------------------------------------\u001b[0m",
      "\u001b[1;31mTypeError\u001b[0m                                 Traceback (most recent call last)",
      "\u001b[1;32m<ipython-input-14-183f34cd6820>\u001b[0m in \u001b[0;36m<module>\u001b[1;34m()\u001b[0m\n\u001b[0;32m      1\u001b[0m \u001b[0mprint\u001b[0m\u001b[1;33m(\u001b[0m\u001b[1;34m\"For given a =\"\u001b[0m\u001b[1;33m,\u001b[0m \u001b[0ma\u001b[0m\u001b[1;33m,\u001b[0m\u001b[1;34m\" For given b =\"\u001b[0m\u001b[1;33m,\u001b[0m \u001b[0mb\u001b[0m\u001b[1;33m)\u001b[0m\u001b[1;33m\u001b[0m\u001b[0m\n\u001b[0;32m      2\u001b[0m \u001b[1;31m# + # Addition operator\u001b[0m\u001b[1;33m\u001b[0m\u001b[1;33m\u001b[0m\u001b[0m\n\u001b[1;32m----> 3\u001b[1;33m \u001b[0mprint\u001b[0m\u001b[1;33m(\u001b[0m\u001b[1;34m\"a+b = \"\u001b[0m\u001b[1;33m,\u001b[0m\u001b[0ma\u001b[0m\u001b[1;33m+\u001b[0m\u001b[0mb\u001b[0m\u001b[1;33m)\u001b[0m\u001b[1;33m\u001b[0m\u001b[0m\n\u001b[0m\u001b[0;32m      4\u001b[0m \u001b[1;33m\u001b[0m\u001b[0m\n\u001b[0;32m      5\u001b[0m \u001b[1;31m# - # Substraction operator\u001b[0m\u001b[1;33m\u001b[0m\u001b[1;33m\u001b[0m\u001b[0m\n",
      "\u001b[1;31mTypeError\u001b[0m: unsupported operand type(s) for +: 'float' and 'str'"
     ]
    }
   ],
   "source": [
    "print(\"For given a =\", a,\" For given b =\", b)\n",
    "# + # Addition operator\n",
    "print(\"a+b = \",a+b)\n",
    "\n",
    "# - # Substraction operator\n",
    "print (\"a-b = \",a-b)\n",
    "\n",
    "# * # Multiplication operator\n",
    "print (\"a*b = \",a*b)\n",
    "\n",
    "# / # Division operator\n",
    "print (\"a/b = \",a/b)\n",
    "\n",
    "# % # Modulus operator\n",
    "print (\"a%b = \",a%b)\n",
    "\n",
    "# // # Floor Division operator\n",
    "print (\"a//b = \",a//b)\n",
    "\n",
    "# ** # Exponent operator\n",
    "print (\"a**b = \",a**b)\n",
    "\n",
    "\n",
    " \n",
    " \n",
    "\n",
    "\n"
   ]
  },
  {
   "cell_type": "markdown",
   "metadata": {},
   "source": [
    "### Try it #03\n",
    "\n",
    "Apply all arthimetic values on 23 and 4"
   ]
  },
  {
   "cell_type": "code",
   "execution_count": null,
   "metadata": {
    "collapsed": true
   },
   "outputs": [],
   "source": [
    "#Add your code here\n"
   ]
  },
  {
   "cell_type": "markdown",
   "metadata": {},
   "source": [
    "### Comparission Operators"
   ]
  },
  {
   "cell_type": "code",
   "execution_count": 8,
   "metadata": {},
   "outputs": [
    {
     "name": "stdout",
     "output_type": "stream",
     "text": [
      "For given x = 10  For given y = 12\n",
      "x > y  is False\n",
      "x < y  is True\n",
      "x == y is False\n",
      "x != y is True\n",
      "x >= y is False\n",
      "x <= y is True\n",
      "\n",
      "\n"
     ]
    }
   ],
   "source": [
    "x = 10\n",
    "y = 12\n",
    "\n",
    "print(\"For given x =\", x,\" For given y =\", y)\n",
    "# Output: x > y is False\n",
    "print('x > y  is',x>y)\n",
    "\n",
    "# Output: x < y is True\n",
    "print('x < y  is',x<y)\n",
    "\n",
    "# Output: x == y is False\n",
    "print('x == y is',x==y)\n",
    "\n",
    "# Output: x != y is True\n",
    "print('x != y is',x!=y)\n",
    "\n",
    "# Output: x >= y is False\n",
    "print('x >= y is',x>=y)\n",
    "\n",
    "# Output: x <= y is True\n",
    "print('x <= y is',x<=y)\n",
    "print(\"\\n\")"
   ]
  },
  {
   "cell_type": "markdown",
   "metadata": {},
   "source": [
    "### Booleans\n",
    "\n",
    "All Logical operators expression will return boolean output either True or False \n",
    "So we will use statements with these operators to make decisions or flow of the overall program. "
   ]
  },
  {
   "cell_type": "markdown",
   "metadata": {},
   "source": [
    "### Try it #04\n",
    "\n",
    "Apply all comparission operators on 1 and -1"
   ]
  },
  {
   "cell_type": "code",
   "execution_count": null,
   "metadata": {
    "collapsed": true
   },
   "outputs": [],
   "source": [
    "#Add your code here\n"
   ]
  },
  {
   "cell_type": "markdown",
   "metadata": {},
   "source": [
    "### Logical Operators"
   ]
  },
  {
   "cell_type": "code",
   "execution_count": null,
   "metadata": {
    "collapsed": true
   },
   "outputs": [],
   "source": [
    "x = 10\n",
    "y = 20\n",
    "z = 10\n",
    "print(\"For given x =\", x,\" For given y =\", y,\" For given z =\", z)\n",
    "\n",
    "print('x > z and y > z is',x > z and y > z)\n",
    "\n",
    "print('x > z or y > z is',x > z or y > z)\n",
    "\n",
    "print('not x > z is',not x > z)\n",
    "print(\"\\n\")"
   ]
  },
  {
   "cell_type": "markdown",
   "metadata": {},
   "source": [
    "### Try it #05\n",
    "\n",
    "Apply Logical Operators for a = True and b = False"
   ]
  },
  {
   "cell_type": "code",
   "execution_count": null,
   "metadata": {
    "collapsed": true
   },
   "outputs": [],
   "source": [
    "#Add your code here\n"
   ]
  },
  {
   "cell_type": "markdown",
   "metadata": {},
   "source": [
    "### Bitwise Operators\n",
    "\n",
    "Bitwise operators act on operands as if they were string of binary digits. It operates bit by bit, hence the name.\n",
    "\n",
    "For example, 2 is <i>010</i> in binary and 6 is <i>110</i>."
   ]
  },
  {
   "cell_type": "code",
   "execution_count": null,
   "metadata": {
    "collapsed": true
   },
   "outputs": [],
   "source": [
    "x = 2\n",
    "y = 6\n",
    "\n",
    "print(\"For given x =\", x,\" For given y =\", y)\n",
    "\n",
    "# & # Bitwise And operator\n",
    "print(\"x&y = \",x&y, \" 010 & 110 = 010\")\n",
    "\n",
    "# | # Bitwise or operator\n",
    "print(\"x|y = \",x|y, \" 010 | 110 = 110\")\n",
    "\n",
    "# ^ # Bitwise Xor operator\n",
    "print(\"x^y = \",x^y, \" 010 ^ 110 = 010\")\n",
    "\n",
    "# ~ # Bitwise not operator\n",
    "print(\"~x = \",~x, \" ~ 010 = 101\")\n",
    "\n",
    "# >> # Bitwise Right Shift operator\n",
    "print(\"x>>1 = \",x>>1, \"010 >> 1 = 001\")\n",
    "\n",
    "# << # Bitwise Left Shift operator\n",
    "print(\"x<<1 = \",x<<1, \"010 << 10\")\n",
    "print(\"\\n\")"
   ]
  },
  {
   "cell_type": "markdown",
   "metadata": {},
   "source": [
    "### Try it #06\n",
    "\n",
    "Create a table with rows 0 0, 0 1, 1 0, 1 1, 1, 0 and columns as &, |, ^, ~, >>, <<\n",
    "Fill the table with results\n"
   ]
  },
  {
   "cell_type": "code",
   "execution_count": null,
   "metadata": {
    "collapsed": true
   },
   "outputs": [],
   "source": []
  },
  {
   "cell_type": "markdown",
   "metadata": {},
   "source": [
    "### Assignment operator\n",
    "We have already seen the assignment operator in above examples<br>\n",
    "a = 25<br>\n",
    "because of above statement variable a takes the value 25 and type int<br>\n",
    "\n",
    "Similarly above Arthimetic and Bitwise operators can also be applied with assignment operator as shorter version as shown below"
   ]
  },
  {
   "cell_type": "code",
   "execution_count": null,
   "metadata": {
    "collapsed": true
   },
   "outputs": [],
   "source": [
    "a = 25\n",
    "b = 15\n",
    "\n",
    "#Arthimetic and Bitwise operators along with Assignment\n",
    "a *= 4\n",
    "print(\"a *= 4 is \",a,\"\\n that is equal to a = a*4\")\n",
    "\n",
    "b **= 2\n",
    "print(\"b **= 2\", b,\"\\n that is equal to b = b**2\")\n",
    "\n",
    "\n",
    "a ^= 4\n",
    "print(\"a ^= 4 is \",a,\"\\n that is equal to a = a^4\")\n",
    "\n",
    "b &= 2\n",
    "print(\"b &= 2\", b,\"\\n that is equal to b = b&2\")\n",
    "\n"
   ]
  },
  {
   "cell_type": "markdown",
   "metadata": {},
   "source": [
    "### Identity Operators\n",
    "\n",
    "is and is not are used to verify the type or class of variable as shown in the below example"
   ]
  },
  {
   "cell_type": "code",
   "execution_count": null,
   "metadata": {
    "collapsed": true
   },
   "outputs": [],
   "source": [
    "x = 10\n",
    "print(\"x value is \",x)\n",
    "print(type(x) is int)\n",
    "print(type(x) is float)\n",
    "print(type(x) is str)\n",
    "\n",
    "x = \"python\"\n",
    "print(\"x value is \",x)\n",
    "print(type(x) is not int)\n",
    "print(type(x) is not float)\n",
    "print(type(x) is not str)\n",
    "print(type(x) is str)\n"
   ]
  },
  {
   "cell_type": "markdown",
   "metadata": {},
   "source": [
    "### Membership operators\n",
    "\n",
    "in and not in are used to find out if the x value is present in y<br>\n",
    "Please check the examples below"
   ]
  },
  {
   "cell_type": "code",
   "execution_count": null,
   "metadata": {
    "collapsed": true
   },
   "outputs": [],
   "source": [
    "x = 'a'\n",
    "y = 'raja'\n",
    "z = 'b'\n",
    "print(x in y)\n",
    "print(z not in y)"
   ]
  },
  {
   "cell_type": "markdown",
   "metadata": {},
   "source": [
    "We will see more about membership operators along with Python datastructures."
   ]
  },
  {
   "cell_type": "markdown",
   "metadata": {},
   "source": [
    "## Input from users\n"
   ]
  },
  {
   "cell_type": "code",
   "execution_count": null,
   "metadata": {
    "collapsed": true
   },
   "outputs": [],
   "source": [
    "#To take input from users\n",
    "no_of_prods = input(\"Enter the number of products: \")"
   ]
  },
  {
   "cell_type": "markdown",
   "metadata": {},
   "source": [
    "input method will return string by default, you need to [convert the type](#Type-Conversions) as per requirement. "
   ]
  },
  {
   "cell_type": "code",
   "execution_count": null,
   "metadata": {
    "collapsed": true
   },
   "outputs": [],
   "source": [
    "bill_amount = int(no_of_prods)*30\n",
    "print(\"You need to pay - \",bill_amount)"
   ]
  },
  {
   "cell_type": "markdown",
   "metadata": {
    "collapsed": true
   },
   "source": [
    "### Try it #07\n",
    "\n",
    "Somu came to a store and bought 2 products A and B.<br> \n",
    "Product A cost 10 and Product B cost 20. <br>\n",
    "Take input from Somu needs how many product A ? <br>\n",
    "and how many product B ? <br>\n",
    "As Somu is a regular customer give him 10% discount (use [Arthimetic operations](#Arthmetic-Operators)) <br>\n",
    "Tell Somu, what is the final bill. "
   ]
  },
  {
   "cell_type": "code",
   "execution_count": null,
   "metadata": {
    "collapsed": true
   },
   "outputs": [],
   "source": [
    "#Add your code here"
   ]
  },
  {
   "cell_type": "markdown",
   "metadata": {},
   "source": [
    "## Passing Arguments\n",
    "\n",
    "Python code could be written in files and usually stored with extension <filename>.py<br>\n",
    "To execute python code in a file, we run python <filename>.py <br>\n",
    "For example: <br>\n",
    "We want to create python file which can print bill from Input from users section <br>\n",
    "open your code editor or notepad and copy paste your code <br><br>\n",
    "\n",
    "#To take input from users<br>\n",
    "no_of_prods = input(\"Enter the number of products: \")<br>\n",
    "bill_amount = int(no_of_prods)*30<br>\n",
    "print(\"You need to pay - \",bill_amount)<br><br>\n",
    "\n",
    "save it as printBill.py<br><br>\n",
    "\n",
    "open command prompt/terminal, go to the path where you saved the file<br>\n",
    "run command <i>python printBill.py</i><br>"
   ]
  },
  {
   "cell_type": "raw",
   "metadata": {},
   "source": [
    "## Add an image here with the output screen in documents folder. "
   ]
  },
  {
   "cell_type": "markdown",
   "metadata": {},
   "source": [
    "For the above case , we have hardcoded the product cost as 30, lets say we want to pass custom price for every bill<br>\n",
    "we need to pass the product cost for every execution, as below <br>\n",
    "run command <i>python printBill.py 25</i><br><br>\n",
    "\n",
    "Good we know, how to pass an argument, but we are yet to figure out how to access the value in the program<br><br>\n",
    "\n",
    "add below lines to the program<br><br>\n",
    "\n",
    "import sys<br>\n",
    "#This is how to import [python libraries](https://docs.python.org/3/library)<br>\n",
    "#details of [sys library](https://docs.python.org/3/library/sys.html)<br>\n",
    "#sys.argv[0] --> program name<br>\n",
    "#sys.argv[1]-> first argument<br>\n",
    "#sys.argv[2-> second argument<br><br>\n",
    "\n",
    "#argument is by default a string so we need to convert it<br>\n",
    "product_price = int(sys.argv[1])<br><br>\n",
    "\n",
    "#To take input from users<br>\n",
    "no_of_prods = input(\"Enter the number of products: \")<br>\n",
    "bill_amount = int(no_of_prods)*product_price<br>\n",
    "print(\"You need to pay - \",bill_amount)<br><br>"
   ]
  },
  {
   "cell_type": "markdown",
   "metadata": {},
   "source": [
    "### Try it #08\n",
    "\n",
    "Take the program you wrote in [Try it #07]()<br>\n",
    "pass the product A and B prices as arguments and take the values from sys.argv<br>\n",
    "and rerun the program. "
   ]
  },
  {
   "cell_type": "code",
   "execution_count": null,
   "metadata": {
    "collapsed": true
   },
   "outputs": [],
   "source": []
  },
  {
   "cell_type": "markdown",
   "metadata": {},
   "source": [
    "# Indentation and Block of code\n",
    "\n",
    "Python strictly follows indentation in its code, other programing languages suggests Indentation as a good practice. But in python non indenteded code may throw errors <br><br>\n",
    "\n",
    "[What is the use of Indentation ?](http://mrbool.com/importance-of-code-indentation/29079)<br><br>\n",
    "\n",
    "We indent code in python by adding four spaces to the previous command line's starting position<br><br>\n",
    "a,b,c<br>\n",
    "....h,i,j<br>\n",
    "........u,v,w<br>\n",
    "........x,y,z<br>\n",
    "....k,l,m<br>\n",
    "e,f,g<br>\n",
    "\n",
    "** . is representing a space<br><br>\n",
    "\n",
    "In above example, <br>\n",
    "a,b,c<br>\n",
    "e,f,g are with same indentation <br>\n",
    "\n",
    "h,i,j<br>\n",
    "k,l,m are with same indentation <br>\n",
    "\n",
    "x,y,z are with same indentation <br>\n",
    "\n",
    "So block of code is group of lines with same indentation (x spaces)  until the line which has less than x spaces is written,<br> \n",
    "for example: <br>\n",
    "Block of code started at h,i,j (4 spaces) and is there till (k,l,m) when next line e,f,g has only 0(less than 4) spaces. <br>\n",
    "Block of code started at u,v,w (8 spaces) and is there till (x,y,z) when next line k,l,m has only 4(less than 8) spaces. <br><br>\n",
    "\n",
    "\n",
    "\n",
    "\n",
    "\n"
   ]
  },
  {
   "cell_type": "code",
   "execution_count": 1,
   "metadata": {
    "collapsed": true
   },
   "outputs": [],
   "source": [
    "#you will use these concepts in further concepts. "
   ]
  },
  {
   "cell_type": "markdown",
   "metadata": {},
   "source": [
    "## Functions, Parameters, Returns\n",
    "\n",
    "Functions are a block of code written to solve some purpose, to reuse the same block of code and to increase the overall readability of the code. <br>\n",
    "\n",
    "We have already used few functions like print, type, int, str, float etc. These are all predefined functions(available in Python libraries)<br>\n",
    "\n",
    "But what if we want to define our own function, <br>\n",
    "\n",
    "For example: Lets say, we want a fucntion which will apply discount on a given bill amount and return the effective amount post discount. <br>\n",
    "we will define a function as below \n"
   ]
  },
  {
   "cell_type": "code",
   "execution_count": 3,
   "metadata": {},
   "outputs": [],
   "source": [
    "def apply_discount():\n",
    "    discount = 10\n",
    "    final_amount = amount - (amount*discount)/100\n",
    "    return final_amount"
   ]
  },
  {
   "cell_type": "markdown",
   "metadata": {},
   "source": [
    "So defining function is one part and access it is the other part. How do we call the above method is as given below. "
   ]
  },
  {
   "cell_type": "code",
   "execution_count": 4,
   "metadata": {},
   "outputs": [
    {
     "ename": "NameError",
     "evalue": "name 'amount' is not defined",
     "output_type": "error",
     "traceback": [
      "\u001b[1;31m---------------------------------------------------------------------------\u001b[0m",
      "\u001b[1;31mNameError\u001b[0m                                 Traceback (most recent call last)",
      "\u001b[1;32m<ipython-input-4-216da3ff2121>\u001b[0m in \u001b[0;36m<module>\u001b[1;34m()\u001b[0m\n\u001b[1;32m----> 1\u001b[1;33m \u001b[0mbill_amount\u001b[0m \u001b[1;33m=\u001b[0m \u001b[0mapply_discount\u001b[0m\u001b[1;33m(\u001b[0m\u001b[1;33m)\u001b[0m\u001b[1;33m\u001b[0m\u001b[0m\n\u001b[0m",
      "\u001b[1;32m<ipython-input-3-38c1838d2d73>\u001b[0m in \u001b[0;36mapply_discount\u001b[1;34m()\u001b[0m\n\u001b[0;32m      1\u001b[0m \u001b[1;32mdef\u001b[0m \u001b[0mapply_discount\u001b[0m\u001b[1;33m(\u001b[0m\u001b[1;33m)\u001b[0m\u001b[1;33m:\u001b[0m\u001b[1;33m\u001b[0m\u001b[0m\n\u001b[0;32m      2\u001b[0m     \u001b[0mdiscount\u001b[0m \u001b[1;33m=\u001b[0m \u001b[1;36m10\u001b[0m\u001b[1;33m\u001b[0m\u001b[0m\n\u001b[1;32m----> 3\u001b[1;33m     \u001b[0mfinal_amount\u001b[0m \u001b[1;33m=\u001b[0m \u001b[0mamount\u001b[0m \u001b[1;33m-\u001b[0m \u001b[1;33m(\u001b[0m\u001b[0mamount\u001b[0m\u001b[1;33m*\u001b[0m\u001b[0mdiscount\u001b[0m\u001b[1;33m)\u001b[0m\u001b[1;33m/\u001b[0m\u001b[1;36m100\u001b[0m\u001b[1;33m\u001b[0m\u001b[0m\n\u001b[0m\u001b[0;32m      4\u001b[0m     \u001b[1;32mreturn\u001b[0m \u001b[0mfinal_amount\u001b[0m\u001b[1;33m\u001b[0m\u001b[0m\n",
      "\u001b[1;31mNameError\u001b[0m: name 'amount' is not defined"
     ]
    }
   ],
   "source": [
    "bill_amount = apply_discount()"
   ]
  },
  {
   "cell_type": "markdown",
   "metadata": {},
   "source": [
    "oh bad it failed, what is the problem ? <br>\n",
    "Yes, to apply discount, Function needs to know what is the bill amount. So there needs to be way to pass values to function<br<\n",
    "as below"
   ]
  },
  {
   "cell_type": "code",
   "execution_count": 5,
   "metadata": {},
   "outputs": [
    {
     "name": "stdout",
     "output_type": "stream",
     "text": [
      "Enter the number of products: 20\n",
      "Your bill before discount -  600\n",
      "Your Final bill after discount -  540.0\n",
      "you saved -  60.0\n"
     ]
    }
   ],
   "source": [
    "def apply_discount(amount):\n",
    "    discount = 10\n",
    "    final_amount = amount - (amount*discount)/100\n",
    "    return final_amount\n",
    "\n",
    "#To take input from users\n",
    "no_of_prods = input(\"Enter the number of products: \")\n",
    "\n",
    "bill_amount = int(no_of_prods)*30\n",
    "print(\"Your bill before discount - \",bill_amount)\n",
    "\n",
    "final_bill_amount = apply_discount(bill_amount)\n",
    "print(\"Your Final bill after discount - \",final_bill_amount)\n",
    "print(\"you saved - \",bill_amount - final_bill_amount)\n",
    "\n"
   ]
  },
  {
   "cell_type": "markdown",
   "metadata": {},
   "source": [
    "What if you want to apply discount also dynamically as per customer. "
   ]
  },
  {
   "cell_type": "code",
   "execution_count": 7,
   "metadata": {},
   "outputs": [
    {
     "name": "stdout",
     "output_type": "stream",
     "text": [
      "Enter the number of products: 20\n",
      "Your bill before discount -  600\n",
      "Your Final bill after discount -  480.0\n",
      "you saved -  120.0\n"
     ]
    }
   ],
   "source": [
    "#Below is a function defintion \n",
    "def apply_discount(amount,discount):\n",
    "    #amount and discount are he parameters to the function\n",
    "    final_amount = amount - (amount*discount)/100\n",
    "    #final_amount is the return value from function, if there is nothing you can say return None\n",
    "    return final_amount\n",
    "\n",
    "#To take input from users\n",
    "no_of_prods = input(\"Enter the number of products: \")\n",
    "\n",
    "bill_amount = int(no_of_prods)*30\n",
    "print(\"Your bill before discount - \",bill_amount)\n",
    "#This is how the function call with arguments or parameters will work  \n",
    "final_bill_amount = apply_discount(bill_amount,20)\n",
    "print(\"Your Final bill after discount - \",final_bill_amount)\n",
    "print(\"you saved - \",bill_amount - final_bill_amount)\n"
   ]
  },
  {
   "cell_type": "markdown",
   "metadata": {},
   "source": [
    "### Try it #09\n",
    "You are back from US and you have only dollars, so you want to convert to Rupees, you went to money exchange center. the person there will ask you how many dollars ? he will convert it to ruppees, deduct conversion charge and tell you the amount you will get. \n",
    "\n",
    "Write a function which will take money in dollars and return rupees (use 1 dollar = 65 Rs)\n",
    "Write another function which deduct 1% of the convert money as conversion charge and give the result to customer"
   ]
  },
  {
   "cell_type": "markdown",
   "metadata": {},
   "source": [
    "## Conditional statements - If elif else\n",
    "\n",
    "Following above example of billing system, <br>\n",
    "\n",
    "we assumed there is only one product and hardcoded the cost, what if there are three products 'A', 'B', 'C' with 10, 20, 30 cost respectively. So basing on which product he has taken we need to pick the cost. <br>\n",
    "\n",
    "So we use if , elif and else statement here as below<br>\n",
    "\n",
    "if(<i>condition1</i>):<br>\n",
    "    #block_of_code1<br>\n",
    "elif(<i>condition2</i>):<br>\n",
    "    #block_of_code2<br>\n",
    "else:<br>\n",
    "    #block_of_code3<br>\n",
    "    \n",
    "Above code does this, <br>\n",
    "If condition1 is correct it will execute block_of_code1<br>\n",
    "else-if(elif) (condition1 is wrong -)condition2 is correct it will execute block_of_code2<br>\n",
    "else alone used at the end represents both condition1 and condition2 are false<br>\n"
   ]
  },
  {
   "cell_type": "code",
   "execution_count": 9,
   "metadata": {},
   "outputs": [
    {
     "name": "stdout",
     "output_type": "stream",
     "text": [
      "Enter the product Name, A, B, C: A\n",
      "Enter the number of products: 25\n",
      "Your bill before discount -  250\n",
      "Your Final bill after discount -  200.0\n",
      "you saved -  50.0\n"
     ]
    }
   ],
   "source": [
    "cost_A = 10\n",
    "cost_B = 20\n",
    "cost_C = 30\n",
    "\n",
    "#Below is a function defintion \n",
    "def apply_discount(amount,discount):\n",
    "    #amount and discount are he parameters to the function\n",
    "    final_amount = amount - (amount*discount)/100\n",
    "    #final_amount is the return value from function, if there is nothing you can say return None\n",
    "    return final_amount\n",
    "\n",
    "#To take input from users\n",
    "product_name  = input(\"Enter the product Name, A, B, C: \")\n",
    "no_of_prods = input(\"Enter the number of products: \")\n",
    "if(product_name == \"A\"):\n",
    "    bill_amount = int(no_of_prods)*cost_A\n",
    "elif(product_name == \"B\"):\n",
    "    bill_amount = int(no_of_prods)*cost_B\n",
    "elif(product_name == \"C\"):\n",
    "    bill_amount = int(no_of_prods)*cost_C\n",
    "else:\n",
    "    bill_amount = int(no_of_prods)*30\n",
    "\n",
    "\n",
    "print(\"Your bill before discount - \",bill_amount)\n",
    "#This is how the function call with arguments or parameters will work  \n",
    "final_bill_amount = apply_discount(bill_amount,20)\n",
    "print(\"Your Final bill after discount - \",final_bill_amount)\n",
    "print(\"you saved - \",bill_amount - final_bill_amount)\n"
   ]
  },
  {
   "cell_type": "markdown",
   "metadata": {},
   "source": [
    "## Loops - For and While \n",
    "\n",
    "Continuing above example of billing system,<br>\n",
    "we had a key assumption, Somu can buy only one product A or B or C<br>\n",
    "What here Somu can buy 1 or 2 or 3 type of the products.<br>\n",
    "\n",
    "So when ever there is situation where we need to repeat an action multiple times basing on condition or data, we will use loops<br>\n",
    "Check the example below, "
   ]
  },
  {
   "cell_type": "code",
   "execution_count": null,
   "metadata": {
    "collapsed": true
   },
   "outputs": [],
   "source": []
  },
  {
   "cell_type": "markdown",
   "metadata": {},
   "source": [
    "* For Loop<br>\n",
    "* While Loop<br>\n",
    "Syntax is as below<br>"
   ]
  },
  {
   "cell_type": "code",
   "execution_count": null,
   "metadata": {
    "collapsed": true
   },
   "outputs": [],
   "source": []
  }
 ],
 "metadata": {
  "kernelspec": {
   "display_name": "Python 3",
   "language": "python",
   "name": "python3"
  },
  "language_info": {
   "codemirror_mode": {
    "name": "ipython",
    "version": 3
   },
   "file_extension": ".py",
   "mimetype": "text/x-python",
   "name": "python",
   "nbconvert_exporter": "python",
   "pygments_lexer": "ipython3",
   "version": "3.6.1"
  }
 },
 "nbformat": 4,
 "nbformat_minor": 2
}
