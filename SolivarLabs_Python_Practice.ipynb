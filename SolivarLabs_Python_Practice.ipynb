{
 "cells": [
  {
   "cell_type": "markdown",
   "metadata": {},
   "source": [
    "# Intro to Python \n",
    "\n",
    "### Copyright by Solivarlabs"
   ]
  },
  {
   "cell_type": "markdown",
   "metadata": {},
   "source": [
    "Python is easy to learn, understand and debug\n",
    "\n",
    "Python is interpreted, that means"
   ]
  },
  {
   "cell_type": "code",
   "execution_count": 5,
   "metadata": {},
   "outputs": [
    {
     "data": {
      "text/plain": [
       "105"
      ]
     },
     "execution_count": 5,
     "metadata": {},
     "output_type": "execute_result"
    }
   ],
   "source": [
    "15 * 5 + 10 * 3"
   ]
  },
  {
   "cell_type": "code",
   "execution_count": 6,
   "metadata": {},
   "outputs": [
    {
     "data": {
      "text/plain": [
       "16.0"
      ]
     },
     "execution_count": 6,
     "metadata": {},
     "output_type": "execute_result"
    }
   ],
   "source": [
    "16384/1024"
   ]
  },
  {
   "cell_type": "markdown",
   "metadata": {},
   "source": [
    "code is executed line by line. \n",
    "\n",
    "We don't need a main function or standard structure to run code in python."
   ]
  },
  {
   "cell_type": "markdown",
   "metadata": {},
   "source": [
    "## Install Python"
   ]
  },
  {
   "cell_type": "markdown",
   "metadata": {},
   "source": [
    "Download and Install [Python Annaconda](https://www.anaconda.com/download/)\n",
    "\n",
    "Open Anaconda Navigator > Launch Jupyter > New-Notebook-Python3"
   ]
  },
  {
   "cell_type": "markdown",
   "metadata": {},
   "source": [
    "### What are we going to learn \n",
    "\n",
    "1. [First program](#First-Program)\n",
    "2. [Variables and Types](#Variables-and-Types)\n",
    "3. [Numbers and Math](#Numbers-and-Math)\n",
    "4. Input from users\n",
    "5. Passing parameters\n",
    "6. File Operations\n",
    "7. Functions, Parameters, Returns\n",
    "8. Booleans\n",
    "9. Indentation and Block of code\n",
    "10. If elif else statement\n",
    "11. Loops - For and While \n",
    "12. Lists\n",
    "13. Dictonaries\n",
    "14. Tuples and Sets\n",
    "15. Strings"
   ]
  },
  {
   "cell_type": "markdown",
   "metadata": {},
   "source": [
    "Additional Content:\n",
    "Null --> None in Python\n",
    "Conversion of Data types\n",
    "List comprehension\n"
   ]
  },
  {
   "cell_type": "markdown",
   "metadata": {},
   "source": [
    "# First Program "
   ]
  },
  {
   "cell_type": "code",
   "execution_count": 10,
   "metadata": {},
   "outputs": [
    {
     "name": "stdout",
     "output_type": "stream",
     "text": [
      "I want to learn Python\n",
      "I love programming\n",
      "This is the way to print to output in Python\n"
     ]
    }
   ],
   "source": [
    "print(\"I want to learn Python\")\n",
    "print(\"I love programming\")\n",
    "print(\"This is the way to print to output in Python\")"
   ]
  },
  {
   "cell_type": "markdown",
   "metadata": {},
   "source": [
    "### Try it #01\n",
    "Now write a program which prints Hello to the world !!!<br>\n",
    "(after typing the code , press Shift+Enter to run it)"
   ]
  },
  {
   "cell_type": "code",
   "execution_count": null,
   "metadata": {
    "collapsed": true
   },
   "outputs": [],
   "source": [
    "#Add your code here\n"
   ]
  },
  {
   "cell_type": "markdown",
   "metadata": {},
   "source": [
    "# Variables and Types \n",
    "\n",
    "Variables are used to store & access data<br>\n",
    "Most of the programs are targeted at processing data, in such programs we need to access store and output different kinds of data. <br>\n",
    "Variables with specific Types are useful in such cases. Find examples below. \n"
   ]
  },
  {
   "cell_type": "code",
   "execution_count": 11,
   "metadata": {},
   "outputs": [
    {
     "name": "stdout",
     "output_type": "stream",
     "text": [
      "10\n",
      "20\n"
     ]
    }
   ],
   "source": [
    "\n",
    "x = 10\n",
    "y = 20 \n",
    "print(x)\n",
    "print(y)"
   ]
  },
  {
   "cell_type": "code",
   "execution_count": 16,
   "metadata": {},
   "outputs": [
    {
     "name": "stdout",
     "output_type": "stream",
     "text": [
      "type of x is  <class 'int'>\n",
      "type of a is  <class 'float'>\n",
      "type of b is  <class 'str'>\n",
      "type of c is  <class 'NoneType'>\n"
     ]
    }
   ],
   "source": [
    "#to know the type of a variable we will use type method as below\n",
    "print(\"type of x is \",type(x))\n",
    "a = 10.0\n",
    "print(\"type of a is \",type(a))\n",
    "b = \"python\"\n",
    "print(\"type of b is \",type(b))\n",
    "c = True\n",
    "print(\"type of c is \",type(c))\n",
    "\n",
    "\n"
   ]
  },
  {
   "cell_type": "markdown",
   "metadata": {},
   "source": [
    "As you see variables are not tightly coupled with types, see below example on how a single variable will change types basing pn input value. "
   ]
  },
  {
   "cell_type": "code",
   "execution_count": 18,
   "metadata": {},
   "outputs": [
    {
     "name": "stdout",
     "output_type": "stream",
     "text": [
      "type of x is  <class 'int'>\n",
      "type of x is  <class 'float'>\n",
      "type of x is  <class 'str'>\n",
      "type of x is  <class 'bool'>\n"
     ]
    }
   ],
   "source": [
    "x = 10\n",
    "print(\"type of x is \",type(x))\n",
    "x = 2.3\n",
    "print(\"type of x is \",type(x))\n",
    "x = \"sameVariableName\"\n",
    "print(\"type of x is \",type(x))\n",
    "x = False\n",
    "print(\"type of x is \",type(x))"
   ]
  },
  {
   "cell_type": "markdown",
   "metadata": {},
   "source": [
    "### Try it #02\n",
    "Assign value 100 to a <br> \n",
    "Check the type of a <br>\n",
    "Assign value a*2.3 to a <br>\n",
    "Check the type of a <br>\n",
    "Assign value \"checkType\" to a <br>\n",
    "check the type of a <br>\n",
    "try changing the value of a from int, float, string, boolean and verify types. "
   ]
  },
  {
   "cell_type": "code",
   "execution_count": null,
   "metadata": {
    "collapsed": true
   },
   "outputs": [],
   "source": [
    "#Add your code here\n"
   ]
  },
  {
   "cell_type": "markdown",
   "metadata": {},
   "source": [
    "# Numbers and Math\n",
    "\n",
    "Calculations are core part of Programing (Data processing) <br>\n",
    "How many users registered today ? <br>\n",
    "What is the final bill with shipping ? <br> \n",
    "Total number of Visitors to the website ? "
   ]
  },
  {
   "cell_type": "code",
   "execution_count": 22,
   "metadata": {},
   "outputs": [
    {
     "data": {
      "text/plain": [
       "1035"
      ]
     },
     "execution_count": 22,
     "metadata": {},
     "output_type": "execute_result"
    }
   ],
   "source": [
    "#Registered: 15 users each in 8 centers\n",
    "15*8"
   ]
  },
  {
   "cell_type": "code",
   "execution_count": 82,
   "metadata": {},
   "outputs": [
    {
     "data": {
      "text/plain": [
       "119"
      ]
     },
     "execution_count": 82,
     "metadata": {},
     "output_type": "execute_result"
    }
   ],
   "source": [
    "#Final Bill: 4 items of 12, 26, 29, 32 each and Shipping of 20\n",
    "12 + 26 + 29 + 32 + 20"
   ]
  },
  {
   "cell_type": "markdown",
   "metadata": {},
   "source": [
    "## Lets learn few python operators we can use with numbers"
   ]
  },
  {
   "cell_type": "markdown",
   "metadata": {},
   "source": [
    "### Arthmetic Operators"
   ]
  },
  {
   "cell_type": "code",
   "execution_count": 29,
   "metadata": {},
   "outputs": [
    {
     "name": "stdout",
     "output_type": "stream",
     "text": [
      "For given a = 25  For given b = 15\n",
      "a+b =  40\n",
      "a-b =  10\n",
      "a*b =  375\n",
      "a/b =  1.6666666666666667\n",
      "a%b =  10\n",
      "a//b =  1\n",
      "a**b =  931322574615478515625\n"
     ]
    }
   ],
   "source": [
    "print(\"For given a =\", a,\" For given b =\", b)\n",
    "# + # Addition operator\n",
    "print(\"a+b = \",a+b)\n",
    "\n",
    "# - # Substraction operator\n",
    "print (\"a-b = \",a-b)\n",
    "\n",
    "# * # Multiplication operator\n",
    "print (\"a*b = \",a*b)\n",
    "\n",
    "# / # Division operator\n",
    "print (\"a/b = \",a/b)\n",
    "\n",
    "# % # Modulus operator\n",
    "print (\"a%b = \",a%b)\n",
    "\n",
    "# // # Floor Division operator\n",
    "print (\"a//b = \",a//b)\n",
    "\n",
    "# ** # Exponent operator\n",
    "print (\"a**b = \",a**b)\n",
    "\n",
    "\n",
    " \n",
    " \n",
    "\n",
    "\n"
   ]
  },
  {
   "cell_type": "markdown",
   "metadata": {},
   "source": [
    "### Try it #03\n",
    "\n",
    "Apply all arthimetic values on 23 and 4"
   ]
  },
  {
   "cell_type": "code",
   "execution_count": null,
   "metadata": {
    "collapsed": true
   },
   "outputs": [],
   "source": [
    "#Add your code here\n"
   ]
  },
  {
   "cell_type": "markdown",
   "metadata": {},
   "source": [
    "### Comparission Operators"
   ]
  },
  {
   "cell_type": "code",
   "execution_count": 36,
   "metadata": {},
   "outputs": [
    {
     "name": "stdout",
     "output_type": "stream",
     "text": [
      "For given x = 10  For given y = 12\n",
      "x > y  is False\n",
      "x < y  is True\n",
      "x == y is False\n",
      "x != y is True\n",
      "x >= y is False\n",
      "x <= y is True\n",
      "\n",
      "\n"
     ]
    }
   ],
   "source": [
    "x = 10\n",
    "y = 12\n",
    "\n",
    "print(\"For given x =\", x,\" For given y =\", y)\n",
    "# Output: x > y is False\n",
    "print('x > y  is',x>y)\n",
    "\n",
    "# Output: x < y is True\n",
    "print('x < y  is',x<y)\n",
    "\n",
    "# Output: x == y is False\n",
    "print('x == y is',x==y)\n",
    "\n",
    "# Output: x != y is True\n",
    "print('x != y is',x!=y)\n",
    "\n",
    "# Output: x >= y is False\n",
    "print('x >= y is',x>=y)\n",
    "\n",
    "# Output: x <= y is True\n",
    "print('x <= y is',x<=y)\n",
    "print(\"\\n\")"
   ]
  },
  {
   "cell_type": "markdown",
   "metadata": {},
   "source": [
    "### Try it #04\n",
    "\n",
    "Apply all comparission operators on 1 and -1"
   ]
  },
  {
   "cell_type": "code",
   "execution_count": null,
   "metadata": {
    "collapsed": true
   },
   "outputs": [],
   "source": [
    "#Add your code here\n"
   ]
  },
  {
   "cell_type": "markdown",
   "metadata": {},
   "source": [
    "### Logical Operators"
   ]
  },
  {
   "cell_type": "code",
   "execution_count": 39,
   "metadata": {},
   "outputs": [
    {
     "name": "stdout",
     "output_type": "stream",
     "text": [
      "For given x = 10  For given y = 20  For given z = 10\n",
      "x > z and y > z is False\n",
      "x > z or y > z is True\n",
      "not x > z is True\n",
      "\n",
      "\n"
     ]
    }
   ],
   "source": [
    "x = 10\n",
    "y = 20\n",
    "z = 10\n",
    "print(\"For given x =\", x,\" For given y =\", y,\" For given z =\", z)\n",
    "\n",
    "print('x > z and y > z is',x > z and y > z)\n",
    "\n",
    "print('x > z or y > z is',x > z or y > z)\n",
    "\n",
    "print('not x > z is',not x > z)\n",
    "print(\"\\n\")"
   ]
  },
  {
   "cell_type": "markdown",
   "metadata": {},
   "source": [
    "### Try it #05\n",
    "\n",
    "Apply Logical Operators for a = True and b = False"
   ]
  },
  {
   "cell_type": "code",
   "execution_count": null,
   "metadata": {
    "collapsed": true
   },
   "outputs": [],
   "source": [
    "#Add your code here\n"
   ]
  },
  {
   "cell_type": "markdown",
   "metadata": {},
   "source": [
    "### Bitwise Operators\n",
    "\n",
    "Bitwise operators act on operands as if they were string of binary digits. It operates bit by bit, hence the name.\n",
    "\n",
    "For example, 2 is <i>010</i> in binary and 6 is <i>110</i>."
   ]
  },
  {
   "cell_type": "code",
   "execution_count": 48,
   "metadata": {},
   "outputs": [
    {
     "name": "stdout",
     "output_type": "stream",
     "text": [
      "For given x = 2  For given y = 6\n",
      "x&y =  2  010 & 110 = 010\n",
      "x|y =  6  010 | 110 = 110\n",
      "x^y =  4  010 ^ 110 = 010\n",
      "~x =  -3  ~ 010 = 101\n",
      "x>>1 =  1 010 >> 1 = 001\n",
      "x<<1 =  4 010 << 10\n",
      "\n",
      "\n"
     ]
    }
   ],
   "source": [
    "x = 2\n",
    "y = 6\n",
    "\n",
    "print(\"For given x =\", x,\" For given y =\", y)\n",
    "\n",
    "# & # Bitwise And operator\n",
    "print(\"x&y = \",x&y, \" 010 & 110 = 010\")\n",
    "\n",
    "# | # Bitwise or operator\n",
    "print(\"x|y = \",x|y, \" 010 | 110 = 110\")\n",
    "\n",
    "# ^ # Bitwise Xor operator\n",
    "print(\"x^y = \",x^y, \" 010 ^ 110 = 010\")\n",
    "\n",
    "# ~ # Bitwise not operator\n",
    "print(\"~x = \",~x, \" ~ 010 = 101\")\n",
    "\n",
    "# >> # Bitwise Right Shift operator\n",
    "print(\"x>>1 = \",x>>1, \"010 >> 1 = 001\")\n",
    "\n",
    "# << # Bitwise Left Shift operator\n",
    "print(\"x<<1 = \",x<<1, \"010 << 10\")\n",
    "print(\"\\n\")"
   ]
  },
  {
   "cell_type": "markdown",
   "metadata": {},
   "source": [
    "### Try it #06\n",
    "\n",
    "Create a table with rows 0 0, 0 1, 1 0, 1 1, 1, 0 and columns as &, |, ^, ~, >>, <<\n",
    "Fill the table with results\n"
   ]
  },
  {
   "cell_type": "code",
   "execution_count": null,
   "metadata": {
    "collapsed": true
   },
   "outputs": [],
   "source": []
  },
  {
   "cell_type": "markdown",
   "metadata": {},
   "source": [
    "### Assignment operator\n",
    "We have already seen the assignment operator in above examples<br>\n",
    "a = 25<br>\n",
    "because of above statement variable a takes the value 25 and type int<br>\n",
    "\n",
    "Similarly above Arthimetic and Bitwise operators can also be applied with assignment operator as shorter version as shown below"
   ]
  },
  {
   "cell_type": "code",
   "execution_count": 84,
   "metadata": {},
   "outputs": [
    {
     "name": "stdout",
     "output_type": "stream",
     "text": [
      "a *= 4 is  100 \n",
      " that is equal to a = a*4\n",
      "b **= 2 225 \n",
      " that is equal to b = b**2\n",
      "a ^= 4 is  96 \n",
      " that is equal to a = a^4\n",
      "b &= 2 0 \n",
      " that is equal to b = b&2\n"
     ]
    }
   ],
   "source": [
    "a = 25\n",
    "b = 15\n",
    "\n",
    "#Arthimetic and Bitwise operators along with Assignment\n",
    "a *= 4\n",
    "print(\"a *= 4 is \",a,\"\\n that is equal to a = a*4\")\n",
    "\n",
    "b **= 2\n",
    "print(\"b **= 2\", b,\"\\n that is equal to b = b**2\")\n",
    "\n",
    "\n",
    "a ^= 4\n",
    "print(\"a ^= 4 is \",a,\"\\n that is equal to a = a^4\")\n",
    "\n",
    "b &= 2\n",
    "print(\"b &= 2\", b,\"\\n that is equal to b = b&2\")\n",
    "\n"
   ]
  },
  {
   "cell_type": "markdown",
   "metadata": {},
   "source": [
    "### Identity Operators\n",
    "\n",
    "is and is not are used to verify the type or class of variable as shown in the below example"
   ]
  },
  {
   "cell_type": "code",
   "execution_count": 61,
   "metadata": {},
   "outputs": [
    {
     "name": "stdout",
     "output_type": "stream",
     "text": [
      "x value is  10\n",
      "True\n",
      "False\n",
      "False\n",
      "x value is  python\n",
      "True\n",
      "True\n",
      "False\n",
      "True\n"
     ]
    }
   ],
   "source": [
    "x = 10\n",
    "print(\"x value is \",x)\n",
    "print(type(x) is int)\n",
    "print(type(x) is float)\n",
    "print(type(x) is str)\n",
    "\n",
    "x = \"python\"\n",
    "print(\"x value is \",x)\n",
    "print(type(x) is not int)\n",
    "print(type(x) is not float)\n",
    "print(type(x) is not str)\n",
    "print(type(x) is str)\n"
   ]
  },
  {
   "cell_type": "markdown",
   "metadata": {},
   "source": [
    "### Membership operators\n",
    "\n",
    "in and not in are used to find out if the x value is present in y<br>\n",
    "Please check the examples below"
   ]
  },
  {
   "cell_type": "code",
   "execution_count": 80,
   "metadata": {},
   "outputs": [
    {
     "name": "stdout",
     "output_type": "stream",
     "text": [
      "True\n",
      "True\n"
     ]
    }
   ],
   "source": [
    "x = 'a'\n",
    "y = 'raja'\n",
    "z = 'b'\n",
    "print(x in y)\n",
    "print(z not in y)"
   ]
  },
  {
   "cell_type": "markdown",
   "metadata": {},
   "source": [
    "We will see more about membership operators along with Python datastructures."
   ]
  },
  {
   "cell_type": "code",
   "execution_count": null,
   "metadata": {
    "collapsed": true
   },
   "outputs": [],
   "source": []
  }
 ],
 "metadata": {
  "kernelspec": {
   "display_name": "Python 3",
   "language": "python",
   "name": "python3"
  },
  "language_info": {
   "codemirror_mode": {
    "name": "ipython",
    "version": 3
   },
   "file_extension": ".py",
   "mimetype": "text/x-python",
   "name": "python",
   "nbconvert_exporter": "python",
   "pygments_lexer": "ipython3",
   "version": "3.6.1"
  }
 },
 "nbformat": 4,
 "nbformat_minor": 2
}
