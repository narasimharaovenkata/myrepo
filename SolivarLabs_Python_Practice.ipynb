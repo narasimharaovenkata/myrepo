{
 "cells": [
  {
   "cell_type": "markdown",
   "metadata": {},
   "source": [
    "# Intro to Python \n",
    "\n",
    "### Copyright by Solivarlabs"
   ]
  },
  {
   "cell_type": "markdown",
   "metadata": {},
   "source": [
    "Python is easy to learn, understand and debug\n",
    "\n",
    "Python is interpreted, that means"
   ]
  },
  {
   "cell_type": "code",
   "execution_count": 3,
   "metadata": {},
   "outputs": [
    {
     "data": {
      "text/plain": [
       "105"
      ]
     },
     "execution_count": 3,
     "metadata": {},
     "output_type": "execute_result"
    }
   ],
   "source": [
    "15 * 5 + 10 * 3"
   ]
  },
  {
   "cell_type": "code",
   "execution_count": 4,
   "metadata": {},
   "outputs": [
    {
     "data": {
      "text/plain": [
       "16.0"
      ]
     },
     "execution_count": 4,
     "metadata": {},
     "output_type": "execute_result"
    }
   ],
   "source": [
    "16384/1024"
   ]
  },
  {
   "cell_type": "markdown",
   "metadata": {},
   "source": [
    "code is executed line by line. \n",
    "\n",
    "We don't need a main function or standard structure to run code in python."
   ]
  },
  {
   "cell_type": "markdown",
   "metadata": {},
   "source": [
    "## Install Python"
   ]
  },
  {
   "cell_type": "markdown",
   "metadata": {},
   "source": [
    "Download and Install [Python Annaconda](https://www.anaconda.com/download/)\n",
    "\n",
    "Open Anaconda Navigator > Launch Jupyter > New-Notebook-Python3"
   ]
  },
  {
   "cell_type": "markdown",
   "metadata": {},
   "source": [
    "### What are we going to learn \n",
    "\n",
    " [First program](#First-Program)<br>\n",
    " [Variables and Types](#Variables-and-Types)<br>\n",
    " [Numbers and Math](#Numbers-and-Math)<br>\n",
    " [Input from users](#Input-from-users)<br>\n",
    " [Passing arguments](#Passing-Arguments)<br>\n",
    " [Indentation and Block of code](#Indentation-and-Block-of-code)<br>\n",
    " [Functions, Parameters, Returns](#Functions,-Parameters,-Returns)<br>\n",
    " [Conditional statements - If elif else](#Conditional-statements---If-elif-else)<br>\n",
    " [Loops - For and While](#Loops---For-and-While) <br>\n",
    " [Lists](#Lists)<br>\n",
    " [Tuples](#Tuples)<br>\n",
    " [Dictonaries](#Dictonaries)<br>\n",
    " [Sets](#Sets)<br>\n",
    " [Strings](#Strings)<br>\n",
    " [File operations](#File-operations)<br>\n",
    " [Exception handling](#Exception-handling)<br>\n"
   ]
  },
  {
   "cell_type": "markdown",
   "metadata": {},
   "source": [
    "Additional Content:\n",
    "Null --> None in Python\n",
    "Conversion of Data types\n",
    "List comprehension\n"
   ]
  },
  {
   "cell_type": "markdown",
   "metadata": {},
   "source": [
    "# First Program "
   ]
  },
  {
   "cell_type": "code",
   "execution_count": 5,
   "metadata": {},
   "outputs": [
    {
     "name": "stdout",
     "output_type": "stream",
     "text": [
      "I want to learn Python\n",
      "I love programming\n",
      "This is the way to print output in Python\n"
     ]
    }
   ],
   "source": [
    "print(\"I want to learn Python\")\n",
    "print(\"I love programming\")\n",
    "print(\"This is the way to print output in Python\")"
   ]
  },
  {
   "cell_type": "markdown",
   "metadata": {},
   "source": [
    "### Complete  [Try it #01](SolivarLabs_Python_Excercises.ipynb#Try-it-#01)\n"
   ]
  },
  {
   "cell_type": "markdown",
   "metadata": {},
   "source": [
    "# Variables and Types \n",
    "\n",
    "Variables are used to store & access data<br>\n",
    "Most of the programs are targeted at processing data, in such programs we need to access store and output different kinds of data. <br>\n",
    "Variables with specific Types are useful in such cases. Find examples below. \n"
   ]
  },
  {
   "cell_type": "code",
   "execution_count": 7,
   "metadata": {},
   "outputs": [
    {
     "name": "stdout",
     "output_type": "stream",
     "text": [
      "10\n",
      "20\n"
     ]
    }
   ],
   "source": [
    "\n",
    "x = 10\n",
    "y = 20 \n",
    "print(x)\n",
    "print(y)"
   ]
  },
  {
   "cell_type": "code",
   "execution_count": 8,
   "metadata": {},
   "outputs": [
    {
     "name": "stdout",
     "output_type": "stream",
     "text": [
      "type of x is  <class 'int'>\n",
      "type of a is  <class 'float'>\n",
      "type of b is  <class 'str'>\n",
      "type of c is  <class 'bool'>\n"
     ]
    }
   ],
   "source": [
    "#to know the type of a variable we will use type method as below\n",
    "print(\"type of x is \",type(x))\n",
    "a = 10.0\n",
    "print(\"type of a is \",type(a))\n",
    "b = \"python\"\n",
    "print(\"type of b is \",type(b))\n",
    "c = True\n",
    "print(\"type of c is \",type(c))\n",
    "\n",
    "\n"
   ]
  },
  {
   "cell_type": "markdown",
   "metadata": {},
   "source": [
    "As you see variables are not tightly coupled with types, see below example on how a single variable will change types basing pn input value. "
   ]
  },
  {
   "cell_type": "code",
   "execution_count": 9,
   "metadata": {},
   "outputs": [
    {
     "name": "stdout",
     "output_type": "stream",
     "text": [
      "type of x is  <class 'int'>\n",
      "type of x is  <class 'float'>\n",
      "type of x is  <class 'str'>\n",
      "type of x is  <class 'bool'>\n"
     ]
    }
   ],
   "source": [
    "x = 10\n",
    "print(\"type of x is \",type(x))\n",
    "x = 2.3\n",
    "print(\"type of x is \",type(x))\n",
    "x = \"sameVariableName\"\n",
    "print(\"type of x is \",type(x))\n",
    "x = False\n",
    "print(\"type of x is \",type(x))"
   ]
  },
  {
   "cell_type": "markdown",
   "metadata": {},
   "source": [
    "### Type Conversions \n",
    "In some situation , we need to convert one type to other for doing some operation. \n",
    "\n",
    "Predefined methods may return specific type , but for processing or calculations we may need to convert. "
   ]
  },
  {
   "cell_type": "code",
   "execution_count": 10,
   "metadata": {},
   "outputs": [
    {
     "name": "stdout",
     "output_type": "stream",
     "text": [
      "type of str is  1  -  <class 'str'>\n",
      "type of int(str) is  1  -  <class 'int'>\n",
      "type of float(str) is  1.0  -  <class 'float'>\n",
      "type of bool(str) is  True  -  <class 'bool'>\n"
     ]
    }
   ],
   "source": [
    "str = \"1\"\n",
    "print(\"type of str is \",str, \" - \", type(str))\n",
    "\n",
    "#Converted to int\n",
    "print(\"type of int(str) is \",int(str), \" - \",type(int(str)))\n",
    "\n",
    "#Converted to float\n",
    "print(\"type of float(str) is \",float(str), \" - \",type(float(str)))\n",
    "\n",
    "#Converted to bolean\n",
    "print(\"type of bool(str) is \",bool(str), \" - \",type(bool(str)))"
   ]
  },
  {
   "cell_type": "markdown",
   "metadata": {},
   "source": [
    "### Complete  [Try it #02](SolivarLabs_Python_Excercises.ipynb#Try-it-#02)\n"
   ]
  },
  {
   "cell_type": "markdown",
   "metadata": {},
   "source": [
    "# Numbers and Math\n",
    "\n",
    "Calculations are core part of Programing (Data processing) <br>\n",
    "How many users registered today ? <br>\n",
    "What is the final bill with shipping ? <br> \n",
    "Total number of Visitors to the website ? "
   ]
  },
  {
   "cell_type": "code",
   "execution_count": 12,
   "metadata": {},
   "outputs": [
    {
     "data": {
      "text/plain": [
       "120"
      ]
     },
     "execution_count": 12,
     "metadata": {},
     "output_type": "execute_result"
    }
   ],
   "source": [
    "#Registered: 15 users each in 8 centers\n",
    "15*8"
   ]
  },
  {
   "cell_type": "code",
   "execution_count": 13,
   "metadata": {},
   "outputs": [
    {
     "data": {
      "text/plain": [
       "119"
      ]
     },
     "execution_count": 13,
     "metadata": {},
     "output_type": "execute_result"
    }
   ],
   "source": [
    "#Final Bill: 4 items of 12, 26, 29, 32 each and Shipping of 20\n",
    "12 + 26 + 29 + 32 + 20"
   ]
  },
  {
   "cell_type": "markdown",
   "metadata": {},
   "source": [
    "## Lets learn few python operators we can use with numbers"
   ]
  },
  {
   "cell_type": "markdown",
   "metadata": {},
   "source": [
    "### Arthmetic Operators"
   ]
  },
  {
   "cell_type": "code",
   "execution_count": null,
   "metadata": {
    "collapsed": true
   },
   "outputs": [],
   "source": [
    "a = 6\n",
    "b = 12\n",
    "print(\"For given a =\", a,\" For given b =\", b)\n",
    "# + # Addition operator\n",
    "print(\"a+b = \",a+b)\n",
    "\n",
    "# - # Substraction operator\n",
    "print (\"a-b = \",a-b)\n",
    "\n",
    "# * # Multiplication operator\n",
    "print (\"a*b = \",a*b)\n",
    "\n",
    "# / # Division operator\n",
    "print (\"a/b = \",a/b)\n",
    "\n",
    "# % # Modulus operator\n",
    "print (\"a%b = \",a%b)\n",
    "\n",
    "# // # Floor Division operator\n",
    "print (\"a//b = \",a//b)\n",
    "\n",
    "# ** # Exponent operator\n",
    "print (\"a**b = \",a**b)\n",
    "\n",
    "\n",
    " \n",
    " \n",
    "\n",
    "\n"
   ]
  },
  {
   "cell_type": "markdown",
   "metadata": {},
   "source": [
    "### Complete  [Try it #03](SolivarLabs_Python_Excercises.ipynb#Try-it-#03)\n"
   ]
  },
  {
   "cell_type": "markdown",
   "metadata": {},
   "source": [
    "### Comparission Operators"
   ]
  },
  {
   "cell_type": "code",
   "execution_count": 8,
   "metadata": {},
   "outputs": [
    {
     "name": "stdout",
     "output_type": "stream",
     "text": [
      "For given x = 10  For given y = 12\n",
      "x > y  is False\n",
      "x < y  is True\n",
      "x == y is False\n",
      "x != y is True\n",
      "x >= y is False\n",
      "x <= y is True\n",
      "\n",
      "\n"
     ]
    }
   ],
   "source": [
    "x = 10\n",
    "y = 12\n",
    "\n",
    "print(\"For given x =\", x,\" For given y =\", y)\n",
    "# Output: x > y is False\n",
    "print('x > y  is',x>y)\n",
    "\n",
    "# Output: x < y is True\n",
    "print('x < y  is',x<y)\n",
    "\n",
    "# Output: x == y is False\n",
    "print('x == y is',x==y)\n",
    "\n",
    "# Output: x != y is True\n",
    "print('x != y is',x!=y)\n",
    "\n",
    "# Output: x >= y is False\n",
    "print('x >= y is',x>=y)\n",
    "\n",
    "# Output: x <= y is True\n",
    "print('x <= y is',x<=y)\n",
    "print(\"\\n\")"
   ]
  },
  {
   "cell_type": "markdown",
   "metadata": {},
   "source": [
    "### Booleans\n",
    "\n",
    "All Logical operators expression will return boolean output either True or False \n",
    "So we will use statements with these operators to make decisions or flow of the overall program. "
   ]
  },
  {
   "cell_type": "markdown",
   "metadata": {},
   "source": [
    "### Complete  [Try it #04](SolivarLabs_Python_Excercises.ipynb#Try-it-#04)"
   ]
  },
  {
   "cell_type": "markdown",
   "metadata": {},
   "source": [
    "### Logical Operators"
   ]
  },
  {
   "cell_type": "code",
   "execution_count": null,
   "metadata": {
    "collapsed": true
   },
   "outputs": [],
   "source": [
    "x = 10\n",
    "y = 20\n",
    "z = 10\n",
    "print(\"For given x =\", x,\" For given y =\", y,\" For given z =\", z)\n",
    "\n",
    "print('x > z and y > z is',x > z and y > z)\n",
    "\n",
    "print('x > z or y > z is',x > z or y > z)\n",
    "\n",
    "print('not x > z is',not x > z)\n",
    "print(\"\\n\")"
   ]
  },
  {
   "cell_type": "markdown",
   "metadata": {},
   "source": [
    "### Complete  [Try it #05](SolivarLabs_Python_Excercises.ipynb#Try-it-#05)"
   ]
  },
  {
   "cell_type": "markdown",
   "metadata": {},
   "source": [
    "### Bitwise Operators\n",
    "\n",
    "Bitwise operators act on operands as if they were string of binary digits. It operates bit by bit, hence the name.\n",
    "\n",
    "For example, 2 is <i>010</i> in binary and 6 is <i>110</i>."
   ]
  },
  {
   "cell_type": "code",
   "execution_count": null,
   "metadata": {
    "collapsed": true
   },
   "outputs": [],
   "source": [
    "x = 2\n",
    "y = 6\n",
    "\n",
    "print(\"For given x =\", x,\" For given y =\", y)\n",
    "\n",
    "# & # Bitwise And operator\n",
    "print(\"x&y = \",x&y, \" 010 & 110 = 010\")\n",
    "\n",
    "# | # Bitwise or operator\n",
    "print(\"x|y = \",x|y, \" 010 | 110 = 110\")\n",
    "\n",
    "# ^ # Bitwise Xor operator\n",
    "print(\"x^y = \",x^y, \" 010 ^ 110 = 010\")\n",
    "\n",
    "# ~ # Bitwise not operator\n",
    "print(\"~x = \",~x, \" ~ 010 = 101\")\n",
    "\n",
    "# >> # Bitwise Right Shift operator\n",
    "print(\"x>>1 = \",x>>1, \"010 >> 1 = 001\")\n",
    "\n",
    "# << # Bitwise Left Shift operator\n",
    "print(\"x<<1 = \",x<<1, \"010 << 10\")\n",
    "print(\"\\n\")"
   ]
  },
  {
   "cell_type": "markdown",
   "metadata": {},
   "source": [
    "### Complete  [Try it #06](SolivarLabs_Python_Excercises.ipynb#Try-it-#06)\n"
   ]
  },
  {
   "cell_type": "markdown",
   "metadata": {},
   "source": [
    "### Assignment operator\n",
    "We have already seen the assignment operator in above examples<br>\n",
    "a = 25<br>\n",
    "because of above statement variable a takes the value 25 and type int<br>\n",
    "\n",
    "Similarly above Arthimetic and Bitwise operators can also be applied with assignment operator as shorter version as shown below"
   ]
  },
  {
   "cell_type": "code",
   "execution_count": null,
   "metadata": {
    "collapsed": true
   },
   "outputs": [],
   "source": [
    "a = 25\n",
    "b = 15\n",
    "\n",
    "#Arthimetic and Bitwise operators along with Assignment\n",
    "a *= 4\n",
    "print(\"a *= 4 is \",a,\"\\n that is equal to a = a*4\")\n",
    "\n",
    "b **= 2\n",
    "print(\"b **= 2\", b,\"\\n that is equal to b = b**2\")\n",
    "\n",
    "\n",
    "a ^= 4\n",
    "print(\"a ^= 4 is \",a,\"\\n that is equal to a = a^4\")\n",
    "\n",
    "b &= 2\n",
    "print(\"b &= 2\", b,\"\\n that is equal to b = b&2\")\n",
    "\n"
   ]
  },
  {
   "cell_type": "markdown",
   "metadata": {},
   "source": [
    "### Identity Operators\n",
    "\n",
    "is and is not are used to verify the type or class of variable as shown in the below example"
   ]
  },
  {
   "cell_type": "code",
   "execution_count": null,
   "metadata": {
    "collapsed": true
   },
   "outputs": [],
   "source": [
    "x = 10\n",
    "print(\"x value is \",x)\n",
    "print(type(x) is int)\n",
    "print(type(x) is float)\n",
    "print(type(x) is str)\n",
    "\n",
    "x = \"python\"\n",
    "print(\"x value is \",x)\n",
    "print(type(x) is not int)\n",
    "print(type(x) is not float)\n",
    "print(type(x) is not str)\n",
    "print(type(x) is str)\n"
   ]
  },
  {
   "cell_type": "markdown",
   "metadata": {},
   "source": [
    "### Membership operators\n",
    "\n",
    "in and not in are used to find out if the x value is present in y<br>\n",
    "Please check the examples below"
   ]
  },
  {
   "cell_type": "code",
   "execution_count": null,
   "metadata": {
    "collapsed": true
   },
   "outputs": [],
   "source": [
    "x = 'a'\n",
    "y = 'raja'\n",
    "z = 'b'\n",
    "print(x in y)\n",
    "print(z not in y)"
   ]
  },
  {
   "cell_type": "markdown",
   "metadata": {},
   "source": [
    "We will see more about membership operators along with Python datastructures."
   ]
  },
  {
   "cell_type": "markdown",
   "metadata": {},
   "source": [
    "## Input from users\n"
   ]
  },
  {
   "cell_type": "code",
   "execution_count": null,
   "metadata": {
    "collapsed": true
   },
   "outputs": [],
   "source": [
    "#To take input from users\n",
    "no_of_prods = input(\"Enter the number of products: \")"
   ]
  },
  {
   "cell_type": "markdown",
   "metadata": {},
   "source": [
    "input method will return string by default, you need to [convert the type](#Type-Conversions) as per requirement. "
   ]
  },
  {
   "cell_type": "code",
   "execution_count": null,
   "metadata": {
    "collapsed": true
   },
   "outputs": [],
   "source": [
    "bill_amount = int(no_of_prods)*30\n",
    "print(\"You need to pay - \",bill_amount)"
   ]
  },
  {
   "cell_type": "markdown",
   "metadata": {
    "collapsed": true
   },
   "source": [
    "### Complete  [Try it #07](SolivarLabs_Python_Excercises.ipynb#Try-it-#07)\n"
   ]
  },
  {
   "cell_type": "markdown",
   "metadata": {},
   "source": [
    "## Passing Arguments\n",
    "\n",
    "Python code could be written in files and usually stored with extension <filename>.py<br>\n",
    "To execute python code in a file, we run python <filename>.py <br>\n",
    "For example: <br>\n",
    "We want to create python file which can print bill from Input from users section <br>\n",
    "open your code editor or notepad and copy paste your code <br><br>\n",
    "\n",
    "#To take input from users<br>\n",
    "no_of_prods = input(\"Enter the number of products: \")<br>\n",
    "bill_amount = int(no_of_prods)*30<br>\n",
    "print(\"You need to pay - \",bill_amount)<br><br>\n",
    "\n",
    "save it as printBill.py<br><br>\n",
    "\n",
    "open command prompt/terminal, go to the path where you saved the file<br>\n",
    "run command <i>python printBill.py</i><br>"
   ]
  },
  {
   "cell_type": "raw",
   "metadata": {},
   "source": [
    "## Add an image here with the output screen in documents folder. "
   ]
  },
  {
   "cell_type": "markdown",
   "metadata": {},
   "source": [
    "For the above case , we have hardcoded the product cost as 30, lets say we want to pass custom price for every bill<br>\n",
    "we need to pass the product cost for every execution, as below <br>\n",
    "run command <i>python printBill.py 25</i><br><br>\n",
    "\n",
    "Good we know, how to pass an argument, but we are yet to figure out how to access the value in the program<br><br>\n",
    "\n",
    "add below lines to the program<br><br>\n",
    "\n",
    "import sys<br>\n",
    "#This is how to import [python libraries](https://docs.python.org/3/library)<br>\n",
    "#details of [sys library](https://docs.python.org/3/library/sys.html)<br>\n",
    "#sys.argv[0] --> program name<br>\n",
    "#sys.argv[1]-> first argument<br>\n",
    "#sys.argv[2-> second argument<br><br>\n",
    "\n",
    "#argument is by default a string so we need to convert it<br>\n",
    "product_price = int(sys.argv[1])<br><br>\n",
    "\n",
    "#To take input from users<br>\n",
    "no_of_prods = input(\"Enter the number of products: \")<br>\n",
    "bill_amount = int(no_of_prods)*product_price<br>\n",
    "print(\"You need to pay - \",bill_amount)<br><br>"
   ]
  },
  {
   "cell_type": "markdown",
   "metadata": {},
   "source": [
    "### Complete  [Try it #08](SolivarLabs_Python_Excercises.ipynb#Try-it-#08)\n"
   ]
  },
  {
   "cell_type": "markdown",
   "metadata": {},
   "source": [
    "# Indentation and Block of code\n",
    "\n",
    "Python strictly follows indentation in its code, other programing languages suggests Indentation as a good practice. But in python non indenteded code may throw errors <br><br>\n",
    "\n",
    "[What is the use of Indentation ?](http://mrbool.com/importance-of-code-indentation/29079)<br><br>\n",
    "\n",
    "We indent code in python by adding four spaces to the previous command line's starting position<br><br>\n",
    "a,b,c<br>\n",
    "....h,i,j<br>\n",
    "........u,v,w<br>\n",
    "........x,y,z<br>\n",
    "....k,l,m<br>\n",
    "e,f,g<br>\n",
    "\n",
    "** . is representing a space<br><br>\n",
    "\n",
    "In above example, <br>\n",
    "a,b,c<br>\n",
    "e,f,g are with same indentation <br>\n",
    "\n",
    "h,i,j<br>\n",
    "k,l,m are with same indentation <br>\n",
    "\n",
    "x,y,z are with same indentation <br>\n",
    "\n",
    "So block of code is group of lines with same indentation (x spaces)  until the line which has less than x spaces is written,<br> \n",
    "for example: <br>\n",
    "Block of code started at h,i,j (4 spaces) and is there till (k,l,m) when next line e,f,g has only 0(less than 4) spaces. <br>\n",
    "Block of code started at u,v,w (8 spaces) and is there till (x,y,z) when next line k,l,m has only 4(less than 8) spaces. <br><br>\n",
    "\n",
    "\n",
    "\n",
    "\n",
    "\n"
   ]
  },
  {
   "cell_type": "code",
   "execution_count": 1,
   "metadata": {
    "collapsed": true
   },
   "outputs": [],
   "source": [
    "#you will use these concepts in further concepts. "
   ]
  },
  {
   "cell_type": "markdown",
   "metadata": {},
   "source": [
    "## Functions, Parameters, Returns\n",
    "\n",
    "Functions are a block of code written to solve some purpose, to reuse the same block of code and to increase the overall readability of the code. <br>\n",
    "\n",
    "We have already used few functions like print, type, int, str, float etc. These are all predefined functions(available in Python libraries)<br>\n",
    "\n",
    "But what if we want to define our own function, <br>\n",
    "\n",
    "For example: Lets say, we want a fucntion which will apply discount on a given bill amount and return the effective amount post discount. <br>\n",
    "we will define a function as below \n"
   ]
  },
  {
   "cell_type": "code",
   "execution_count": 3,
   "metadata": {
    "collapsed": true
   },
   "outputs": [],
   "source": [
    "def apply_discount():\n",
    "    discount = 10\n",
    "    final_amount = amount - (amount*discount)/100\n",
    "    return final_amount"
   ]
  },
  {
   "cell_type": "markdown",
   "metadata": {},
   "source": [
    "So defining function is one part and access it is the other part. How do we call the above method is as given below. "
   ]
  },
  {
   "cell_type": "code",
   "execution_count": 4,
   "metadata": {},
   "outputs": [
    {
     "ename": "NameError",
     "evalue": "name 'amount' is not defined",
     "output_type": "error",
     "traceback": [
      "\u001b[1;31m---------------------------------------------------------------------------\u001b[0m",
      "\u001b[1;31mNameError\u001b[0m                                 Traceback (most recent call last)",
      "\u001b[1;32m<ipython-input-4-216da3ff2121>\u001b[0m in \u001b[0;36m<module>\u001b[1;34m()\u001b[0m\n\u001b[1;32m----> 1\u001b[1;33m \u001b[0mbill_amount\u001b[0m \u001b[1;33m=\u001b[0m \u001b[0mapply_discount\u001b[0m\u001b[1;33m(\u001b[0m\u001b[1;33m)\u001b[0m\u001b[1;33m\u001b[0m\u001b[0m\n\u001b[0m",
      "\u001b[1;32m<ipython-input-3-38c1838d2d73>\u001b[0m in \u001b[0;36mapply_discount\u001b[1;34m()\u001b[0m\n\u001b[0;32m      1\u001b[0m \u001b[1;32mdef\u001b[0m \u001b[0mapply_discount\u001b[0m\u001b[1;33m(\u001b[0m\u001b[1;33m)\u001b[0m\u001b[1;33m:\u001b[0m\u001b[1;33m\u001b[0m\u001b[0m\n\u001b[0;32m      2\u001b[0m     \u001b[0mdiscount\u001b[0m \u001b[1;33m=\u001b[0m \u001b[1;36m10\u001b[0m\u001b[1;33m\u001b[0m\u001b[0m\n\u001b[1;32m----> 3\u001b[1;33m     \u001b[0mfinal_amount\u001b[0m \u001b[1;33m=\u001b[0m \u001b[0mamount\u001b[0m \u001b[1;33m-\u001b[0m \u001b[1;33m(\u001b[0m\u001b[0mamount\u001b[0m\u001b[1;33m*\u001b[0m\u001b[0mdiscount\u001b[0m\u001b[1;33m)\u001b[0m\u001b[1;33m/\u001b[0m\u001b[1;36m100\u001b[0m\u001b[1;33m\u001b[0m\u001b[0m\n\u001b[0m\u001b[0;32m      4\u001b[0m     \u001b[1;32mreturn\u001b[0m \u001b[0mfinal_amount\u001b[0m\u001b[1;33m\u001b[0m\u001b[0m\n",
      "\u001b[1;31mNameError\u001b[0m: name 'amount' is not defined"
     ]
    }
   ],
   "source": [
    "bill_amount = apply_discount()"
   ]
  },
  {
   "cell_type": "markdown",
   "metadata": {},
   "source": [
    "oh bad it failed, what is the problem ? <br>\n",
    "Yes, to apply discount, Function needs to know what is the bill amount. So there needs to be way to pass values to function<br<\n",
    "as below"
   ]
  },
  {
   "cell_type": "code",
   "execution_count": 5,
   "metadata": {},
   "outputs": [
    {
     "name": "stdout",
     "output_type": "stream",
     "text": [
      "Enter the number of products: 20\n",
      "Your bill before discount -  600\n",
      "Your Final bill after discount -  540.0\n",
      "you saved -  60.0\n"
     ]
    }
   ],
   "source": [
    "def apply_discount(amount):\n",
    "    discount = 10\n",
    "    final_amount = amount - (amount*discount)/100\n",
    "    return final_amount\n",
    "\n",
    "#To take input from users\n",
    "no_of_prods = input(\"Enter the number of products: \")\n",
    "\n",
    "bill_amount = int(no_of_prods)*30\n",
    "print(\"Your bill before discount - \",bill_amount)\n",
    "\n",
    "final_bill_amount = apply_discount(bill_amount)\n",
    "print(\"Your Final bill after discount - \",final_bill_amount)\n",
    "print(\"you saved - \",bill_amount - final_bill_amount)\n",
    "\n"
   ]
  },
  {
   "cell_type": "markdown",
   "metadata": {},
   "source": [
    "What if you want to apply discount also dynamically as per customer. "
   ]
  },
  {
   "cell_type": "code",
   "execution_count": 7,
   "metadata": {},
   "outputs": [
    {
     "name": "stdout",
     "output_type": "stream",
     "text": [
      "Enter the number of products: 20\n",
      "Your bill before discount -  600\n",
      "Your Final bill after discount -  480.0\n",
      "you saved -  120.0\n"
     ]
    }
   ],
   "source": [
    "#Below is a function defintion \n",
    "def apply_discount(amount,discount):\n",
    "    #amount and discount are he parameters to the function\n",
    "    final_amount = amount - (amount*discount)/100\n",
    "    #final_amount is the return value from function, if there is nothing you can say return None\n",
    "    return final_amount\n",
    "\n",
    "#To take input from users\n",
    "no_of_prods = input(\"Enter the number of products: \")\n",
    "\n",
    "bill_amount = int(no_of_prods)*30\n",
    "print(\"Your bill before discount - \",bill_amount)\n",
    "#This is how the function call with arguments or parameters will work  \n",
    "final_bill_amount = apply_discount(bill_amount,20)\n",
    "print(\"Your Final bill after discount - \",final_bill_amount)\n",
    "print(\"you saved - \",bill_amount - final_bill_amount)\n"
   ]
  },
  {
   "cell_type": "markdown",
   "metadata": {},
   "source": [
    "### Complete  [Try it #09](SolivarLabs_Python_Excercises.ipynb#Try-it-#09)\n"
   ]
  },
  {
   "cell_type": "markdown",
   "metadata": {},
   "source": [
    "## Conditional statements - If elif else\n",
    "\n",
    "Following above example of billing system, <br>\n",
    "\n",
    "we assumed there is only one product and hardcoded the cost, what if there are three products 'A', 'B', 'C' with 10, 20, 30 cost respectively. So basing on which product he has taken we need to pick the cost. <br>\n",
    "\n",
    "So we use if , elif and else statement here as below<br>\n",
    "\n",
    "if(<i>condition1</i>):<br>\n",
    "    #block_of_code1<br>\n",
    "elif(<i>condition2</i>):<br>\n",
    "    #block_of_code2<br>\n",
    "else:<br>\n",
    "    #block_of_code3<br>\n",
    "    \n",
    "Above code does this, <br>\n",
    "If condition1 is correct it will execute block_of_code1<br>\n",
    "else-if(elif) (condition1 is wrong -)condition2 is correct it will execute block_of_code2<br>\n",
    "else alone used at the end represents both condition1 and condition2 are false<br>\n"
   ]
  },
  {
   "cell_type": "code",
   "execution_count": 9,
   "metadata": {},
   "outputs": [
    {
     "name": "stdout",
     "output_type": "stream",
     "text": [
      "Enter the product Name, A, B, C: A\n",
      "Enter the number of products: 25\n",
      "Your bill before discount -  250\n",
      "Your Final bill after discount -  200.0\n",
      "you saved -  50.0\n"
     ]
    }
   ],
   "source": [
    "cost_A = 10\n",
    "cost_B = 20\n",
    "cost_C = 30\n",
    "\n",
    "#Below is a function defintion \n",
    "def apply_discount(amount,discount):\n",
    "    #amount and discount are he parameters to the function\n",
    "    final_amount = amount - (amount*discount)/100\n",
    "    #final_amount is the return value from function, if there is nothing you can say return None\n",
    "    return final_amount\n",
    "\n",
    "#To take input from users\n",
    "product_name  = input(\"Enter the product Name, A, B, C: \")\n",
    "no_of_prods = input(\"Enter the number of products: \")\n",
    "if(product_name == \"A\"):\n",
    "    bill_amount = int(no_of_prods)*cost_A\n",
    "elif(product_name == \"B\"):\n",
    "    bill_amount = int(no_of_prods)*cost_B\n",
    "elif(product_name == \"C\"):\n",
    "    bill_amount = int(no_of_prods)*cost_C\n",
    "else:\n",
    "    bill_amount = int(no_of_prods)*30\n",
    "\n",
    "\n",
    "print(\"Your bill before discount - \",bill_amount)\n",
    "#This is how the function call with arguments or parameters will work  \n",
    "final_bill_amount = apply_discount(bill_amount,20)\n",
    "print(\"Your Final bill after discount - \",final_bill_amount)\n",
    "print(\"you saved - \",bill_amount - final_bill_amount)\n"
   ]
  },
  {
   "cell_type": "markdown",
   "metadata": {},
   "source": [
    "## Loops - For and While \n",
    "\n",
    "Continuing above example of billing system,<br>\n",
    "we had a key assumption, Somu can buy only one product A or B or C<br>\n",
    "What if Somu want to buy 1 or 2 or 3 type of the products at the same time.<br>\n",
    "\n",
    "So when ever there is situation where we need to repeat an action multiple times basing on condition or data, we will use loops<br>\n",
    "Check the example below, \n",
    "Lets say Somu is in quick counter where they allow only 5 items for billing"
   ]
  },
  {
   "cell_type": "code",
   "execution_count": 29,
   "metadata": {},
   "outputs": [
    {
     "name": "stdout",
     "output_type": "stream",
     "text": [
      "Enter the product Name, A, B, C: A\n",
      "Enter the number of products: 10\n",
      "Enter the product Name, A, B, C: B\n",
      "Enter the number of products: 10\n",
      "Enter the product Name, A, B, C: C\n",
      "Enter the number of products: 10\n",
      "Enter the product Name, A, B, C: A\n",
      "Enter the number of products: 10\n",
      "Enter the product Name, A, B, C: B\n",
      "Enter the number of products: 10\n",
      "\n",
      "Your bill before discount -  900\n",
      "Your Final bill after discount -  720.0\n",
      "you saved -  180.0\n"
     ]
    }
   ],
   "source": [
    "cost_A = 10\n",
    "cost_B = 20\n",
    "cost_C = 30\n",
    "bill_amount = 0\n",
    "#Below is a function defintion \n",
    "def apply_discount(amount,discount):\n",
    "    #amount and discount are he parameters to the function\n",
    "    final_amount = amount - (amount*discount)/100\n",
    "    #final_amount is the return value from function, if there is nothing you can say return None\n",
    "    return final_amount\n",
    "\n",
    "for i in range(5):\n",
    "    #To take input from users\n",
    "    product_name  = input(\"Enter the product Name, A, B, C: \")\n",
    "    no_of_prods = input(\"Enter the number of products: \")\n",
    "    if(product_name == \"A\"):\n",
    "        bill_amount += int(no_of_prods)*cost_A\n",
    "    elif(product_name == \"B\"):\n",
    "        bill_amount += int(no_of_prods)*cost_B\n",
    "    elif(product_name == \"C\"):\n",
    "        bill_amount += int(no_of_prods)*cost_C\n",
    "    else:\n",
    "        bill_amount += int(no_of_prods)*30\n",
    "    \n",
    "\n",
    "\n",
    "print(\"\\nYour bill before discount - \",bill_amount)\n",
    "#This is how the function call with arguments or parameters will work  \n",
    "final_bill_amount = apply_discount(bill_amount,20)\n",
    "print(\"Your Final bill after discount - \",final_bill_amount)\n",
    "print(\"you saved - \",bill_amount - final_bill_amount)"
   ]
  },
  {
   "cell_type": "markdown",
   "metadata": {},
   "source": [
    "What if Somu picks more than 5 items and we dont know, how many items are present. how do we do billing ? "
   ]
  },
  {
   "cell_type": "code",
   "execution_count": 26,
   "metadata": {},
   "outputs": [
    {
     "name": "stdout",
     "output_type": "stream",
     "text": [
      "Enter the product Name, A, B, C: A\n",
      "Enter the number of products: 10\n",
      "Do you need more products? 1-Yes or 0-No 1\n",
      "Enter the product Name, A, B, C: B\n",
      "Enter the number of products: 20\n",
      "Do you need more products? 1-Yes or 0-No 1\n",
      "Enter the product Name, A, B, C: C\n",
      "Enter the number of products: 10\n",
      "Do you need more products? 1-Yes or 0-No 0\n",
      "Your bill before discount -  800\n",
      "Your Final bill after discount -  640.0\n",
      "you saved -  160.0\n"
     ]
    }
   ],
   "source": [
    "cost_A = 10\n",
    "cost_B = 20\n",
    "cost_C = 30\n",
    "more = \"1\"\n",
    "bill_amount = 0\n",
    "#Below is a function defintion \n",
    "def apply_discount(amount,discount):\n",
    "    #amount and discount are he parameters to the function\n",
    "    final_amount = amount - (amount*discount)/100\n",
    "    #final_amount is the return value from function, if there is nothing you can say return None\n",
    "    return final_amount\n",
    "\n",
    "while(more == \"1\" or more ==\"Yes\"):\n",
    "    #To take input from users\n",
    "    product_name  = input(\"Enter the product Name, A, B, C: \")\n",
    "    no_of_prods = input(\"Enter the number of products: \")\n",
    "    if(product_name == \"A\"):\n",
    "        bill_amount += int(no_of_prods)*cost_A\n",
    "    elif(product_name == \"B\"):\n",
    "        bill_amount += int(no_of_prods)*cost_B\n",
    "    elif(product_name == \"C\"):\n",
    "        bill_amount += int(no_of_prods)*cost_C\n",
    "    else:\n",
    "        bill_amount += int(no_of_prods)*30\n",
    "    more=input(\"Do you need more products? 1-Yes or 0-No \")\n",
    "\n",
    "\n",
    "print(\"\\nYour bill before discount - \",bill_amount)\n",
    "#This is how the function call with arguments or parameters will work  \n",
    "final_bill_amount = apply_discount(bill_amount,20)\n",
    "print(\"Your Final bill after discount - \",final_bill_amount)\n",
    "print(\"you saved - \",bill_amount - final_bill_amount)"
   ]
  },
  {
   "cell_type": "markdown",
   "metadata": {},
   "source": [
    "* For Loop<br>\n",
    "Mostly used for access of data and processing as searching etc. <br>\n",
    "<img src=\"https://www.tutorialspoint.com/python/images/python_for_loop.jpg\">\n",
    "\n",
    "\n",
    "\n",
    "* While Loop<br>\n",
    "condition most of the times uses logical operators along with some data.<br>\n",
    "<img src=\"https://www.tutorialspoint.com/python/images/loop_architecture.jpg\">\n",
    "\n"
   ]
  },
  {
   "cell_type": "markdown",
   "metadata": {
    "collapsed": true
   },
   "source": [
    "Good, you helped Somu buy things in a super market, for both 5 items and items more than 5. <br><br>\n",
    "But 5 items section we are assuming that he will be taking 5 items, but normally it can also be less than 5 items. <br>\n",
    "\n",
    "If you run the code with For loop, even though it has less than 5 items, it asks for 5 items. TO fix it, as in while loop, in for loop also we can break in between through <i> break </i> command.<br>\n",
    "We can also handle scenario where the product name is not in the list, we need to ignore it and ask for next product. we use <i> continue </i> command for it. "
   ]
  },
  {
   "cell_type": "code",
   "execution_count": 11,
   "metadata": {},
   "outputs": [
    {
     "name": "stdout",
     "output_type": "stream",
     "text": [
      "Enter the product Name, A, B, C, NM(No more): A\n",
      "Enter the number of products: 10\n",
      "Enter the product Name, A, B, C, NM(No more): NM\n",
      "\n",
      "Your bill before discount -  100\n",
      "Your Final bill after discount -  80.0\n",
      "you saved -  20.0\n"
     ]
    }
   ],
   "source": [
    "cost_A = 10\n",
    "cost_B = 20\n",
    "cost_C = 30\n",
    "bill_amount = 0\n",
    "#Below is a function defintion \n",
    "def apply_discount(amount,discount):\n",
    "    #amount and discount are he parameters to the function\n",
    "    final_amount = amount - (amount*discount)/100\n",
    "    #final_amount is the return value from function, if there is nothing you can say return None\n",
    "    return final_amount\n",
    "\n",
    "for i in range(5):\n",
    "    #To take input from users\n",
    "    product_name  = input(\"Enter the product Name, A, B, C, NM(No more): \")\n",
    "    if(product_name == \"NM\"):\n",
    "        break\n",
    "    elif(product_name != \"A\" and product_name != \"B\" and product_name != \"C\" ):\n",
    "        print(\"Invalid product Name, check it again - \",product_name)\n",
    "        continue\n",
    "    no_of_prods = input(\"Enter the number of products: \")\n",
    "    if(product_name == \"A\"):\n",
    "        bill_amount += int(no_of_prods)*cost_A\n",
    "    elif(product_name == \"B\"):\n",
    "        bill_amount += int(no_of_prods)*cost_B\n",
    "    elif(product_name == \"C\"):\n",
    "        bill_amount += int(no_of_prods)*cost_C\n",
    "    else:\n",
    "        bill_amount += int(no_of_prods)*30\n",
    "    \n",
    "    \n",
    "\n",
    "\n",
    "print(\"\\nYour bill before discount - \",bill_amount)\n",
    "#This is how the function call with arguments or parameters will work  \n",
    "final_bill_amount = apply_discount(bill_amount,20)\n",
    "print(\"Your Final bill after discount - \",final_bill_amount)\n",
    "print(\"you saved - \",bill_amount - final_bill_amount)"
   ]
  },
  {
   "cell_type": "markdown",
   "metadata": {},
   "source": [
    "### Complete  [Try it #10](SolivarLabs_Python_Excercises.ipynb#Try-it-#10)\n"
   ]
  },
  {
   "cell_type": "markdown",
   "metadata": {},
   "source": [
    "## Data Structures \n",
    "## Lists\n",
    "Basic concept of programming revolves around, how you <b>store, access, calculate and transfer data  </b><br>\n",
    "\n",
    "In python we have few key data structures, which simplify data operations as above <br>\n",
    "Lists, Dictonaries, Tuples, Sets<br>\n",
    "\n",
    "Lets discuss about Lists here <br>\n",
    "starts with [ and end with ], has data with , seperated values - [1,2,3,4] <br>\n",
    "data could be integers, strings, floats, lists and any other data types <br>\n",
    "Example below,"
   ]
  },
  {
   "cell_type": "code",
   "execution_count": 33,
   "metadata": {},
   "outputs": [
    {
     "name": "stdout",
     "output_type": "stream",
     "text": [
      "Product_cost_list -  [10, 20, 30, 30]\n",
      "products_list -  ['A', 'B', 'C']\n",
      "mixed_list -  [19, 25, 67, 'Raj', 'Suraj', 98, 'Teja']\n"
     ]
    }
   ],
   "source": [
    "Product_cost_list = [10,20,30,30]\n",
    "print(\"Product_cost_list - \",Product_cost_list)\n",
    "products_list = [\"A\",\"B\",\"C\"]\n",
    "print(\"products_list - \",products_list)\n",
    "mixed_list = [19,25,67,\"Raj\",\"Suraj\",98,\"Teja\"]\n",
    "print(\"mixed_list - \",mixed_list)\n"
   ]
  },
  {
   "cell_type": "markdown",
   "metadata": {},
   "source": [
    "#### Accessing values in List"
   ]
  },
  {
   "cell_type": "code",
   "execution_count": 37,
   "metadata": {},
   "outputs": [
    {
     "name": "stdout",
     "output_type": "stream",
     "text": [
      "B 20\n",
      "[67, 'Raj'] \n",
      " [19, 25, 67] \n",
      " ['Raj', 'Suraj', 98, 'Teja'] \n",
      "\n",
      "Teja 19\n"
     ]
    }
   ],
   "source": [
    "print(products_list[1],Product_cost_list[1])\n",
    "\n",
    "print(mixed_list[2:4],\"\\n\",mixed_list[:3],\"\\n\",mixed_list[3:],\"\\n\")\n",
    "\n",
    "#indexing of lists start from 0 to n-1 assuming there are n items in list. \n",
    "#and negative indexing starts from reverse index n-1 is equivalent to -1 and 0 is equal to -n\n",
    "# 0 1 2 3 4 5 6.....n-1\n",
    "# -n.....-4 -3 -2 -1\n",
    "\n",
    "print(mixed_list[6], mixed_list[-7])"
   ]
  },
  {
   "cell_type": "markdown",
   "metadata": {},
   "source": [
    "#### Updating Lists"
   ]
  },
  {
   "cell_type": "code",
   "execution_count": 25,
   "metadata": {},
   "outputs": [
    {
     "name": "stdout",
     "output_type": "stream",
     "text": [
      "67\n",
      "12\n"
     ]
    }
   ],
   "source": [
    "print(mixed_list[2])\n",
    "mixed_list[2]=12\n",
    "print(mixed_list[2])"
   ]
  },
  {
   "cell_type": "code",
   "execution_count": 26,
   "metadata": {},
   "outputs": [
    {
     "ename": "IndexError",
     "evalue": "list assignment index out of range",
     "output_type": "error",
     "traceback": [
      "\u001b[1;31m---------------------------------------------------------------------------\u001b[0m",
      "\u001b[1;31mIndexError\u001b[0m                                Traceback (most recent call last)",
      "\u001b[1;32m<ipython-input-26-8e1744a3ad27>\u001b[0m in \u001b[0;36m<module>\u001b[1;34m()\u001b[0m\n\u001b[1;32m----> 1\u001b[1;33m \u001b[0mproducts_list\u001b[0m\u001b[1;33m[\u001b[0m\u001b[1;36m3\u001b[0m\u001b[1;33m]\u001b[0m\u001b[1;33m=\u001b[0m\u001b[1;34m'NM'\u001b[0m\u001b[1;33m\u001b[0m\u001b[0m\n\u001b[0m",
      "\u001b[1;31mIndexError\u001b[0m: list assignment index out of range"
     ]
    }
   ],
   "source": [
    "products_list[3]='NM'"
   ]
  },
  {
   "cell_type": "markdown",
   "metadata": {},
   "source": [
    "you can't update or add an element using assignment to index. we do it using append, we will see it in next section. "
   ]
  },
  {
   "cell_type": "markdown",
   "metadata": {},
   "source": [
    "#### Delete List element"
   ]
  },
  {
   "cell_type": "code",
   "execution_count": 31,
   "metadata": {},
   "outputs": [
    {
     "name": "stdout",
     "output_type": "stream",
     "text": [
      "[19, 25, 67, 'Raj', 'Suraj', 98, 'Teja']\n",
      "[19, 25, 67, 'Raj', 98, 'Teja']\n"
     ]
    }
   ],
   "source": [
    "print(mixed_list)\n",
    "del mixed_list[4]\n",
    "print(mixed_list)\n",
    "#del mixed_list\n"
   ]
  },
  {
   "cell_type": "markdown",
   "metadata": {},
   "source": [
    "#### Basic List Operations"
   ]
  },
  {
   "cell_type": "code",
   "execution_count": 32,
   "metadata": {},
   "outputs": [
    {
     "name": "stdout",
     "output_type": "stream",
     "text": [
      "6\n",
      "[19, 25, 67, 'Raj', 98, 'Teja', 1, 2]\n",
      "[1, 2, 1, 2, 1, 2]\n",
      "19\n",
      "25\n",
      "67\n",
      "Raj\n",
      "98\n",
      "Teja\n"
     ]
    }
   ],
   "source": [
    "#To find the length of the list \n",
    "print(len(mixed_list))\n",
    "\n",
    "#Add 2 lists \n",
    "print(mixed_list + [1,2])\n",
    "\n",
    "#Multiply List\n",
    "print([1,2]*3)\n",
    "\n",
    "#member condition statement\n",
    "19 in mixed_list\n",
    "\n",
    "#Iteration of List\n",
    "#as we have seen already, we can do it using a for loop\n",
    "for item in mixed_list:\n",
    "    print(item)"
   ]
  },
  {
   "cell_type": "markdown",
   "metadata": {},
   "source": [
    "#### Methofds used on Lists"
   ]
  },
  {
   "cell_type": "code",
   "execution_count": 43,
   "metadata": {},
   "outputs": [
    {
     "name": "stdout",
     "output_type": "stream",
     "text": [
      "4\n",
      "0\n"
     ]
    },
    {
     "data": {
      "text/plain": [
       "['s', 't', 'r', 'i', 'n', 'g']"
      ]
     },
     "execution_count": 43,
     "metadata": {},
     "output_type": "execute_result"
    }
   ],
   "source": [
    "#Max of given list\n",
    "print(max([1,2,0,4]))\n",
    "\n",
    "#Min of list\n",
    "print(min([1,2,0,4]))\n",
    "\n",
    "list(\"string\")"
   ]
  },
  {
   "cell_type": "markdown",
   "metadata": {},
   "source": [
    "#### Methods from List class "
   ]
  },
  {
   "cell_type": "code",
   "execution_count": 85,
   "metadata": {
    "scrolled": true
   },
   "outputs": [
    {
     "name": "stdout",
     "output_type": "stream",
     "text": [
      "First token added -  [1]\n",
      "count of token 1 -  1\n",
      "After extending 2,3 tokens - [1, 2, 3]\n",
      "First token served from the tokens list -  [2, 3] \n",
      "\n",
      "Find the position of Token number 3 -  2\n",
      "Adding token 1 back to the list -  [2, 3, 1, 4] \n",
      "\n",
      "After sorting the token list -  [1, 2, 3, 4]\n",
      "Reversing the token list to serve one after the other [4, 3, 2, 1] \n",
      "\n",
      "Serving customer with token number -  1\n",
      "Serving customer with token number -  2\n",
      "Serving customer with token number -  3\n",
      "Serving customer with token number -  4\n"
     ]
    }
   ],
   "source": [
    "#Assume we are building a Dominos order counter issuing tokens\n",
    "token_list = []\n",
    "\n",
    "#Here we go adding our first order\n",
    "#List append\n",
    "token_list.append(1)\n",
    "print(\"First token added - \",token_list)\n",
    "\n",
    "#count the number of tokens with number 1\n",
    "#List Count\n",
    "print(\"count of token 1 - \",token_list.count(1))\n",
    "\n",
    "#Nice, We got 2 more tokens, lets add them\n",
    "#List extend\n",
    "token_list.extend([2,3])\n",
    "print(\"After extending 2,3 tokens -\",token_list)\n",
    "\n",
    "#First Token served, so lets remove it from tokens list\n",
    "#List remove \n",
    "token_list.remove(1)\n",
    "print(\"First token served from the tokens list - \",token_list,\"\\n\")\n",
    "\n",
    "#mean time a Customer with token 3 is asking what is his status.\n",
    "#List index, insert, pop , \n",
    "print(\"Find the position of Token number 3 - \",token_list.index(3)+1)\n",
    "#Adding one more order 4 at the end\n",
    "token_list.insert(len(token_list),4)\n",
    "\n",
    "#My bad, Customer with token 1 sas not happy with one product, he asked for replacement, so add him back in list\n",
    "token_list.insert(-1,1)\n",
    "print(\"Adding token 1 back to the list - \",token_list,\"\\n\")\n",
    "\n",
    "#Because of inserting 1 order in between the list is distorted. lets sort it and set it right. \n",
    "token_list.sort()\n",
    "print(\"After sorting the token list - \",token_list)\n",
    "\n",
    "#All the orders are ready , so lets call all the orders. \n",
    "#To release the orders from HIghest to lowest, we will reverse it before calling\n",
    "token_list.reverse()\n",
    "print(\"Reversing the token list to serve one after the other\",token_list,\"\\n\")\n",
    "for i in range(max(token_list)):\n",
    "    print(\"Serving customer with token number - \",token_list.pop())    \n",
    "    "
   ]
  },
  {
   "cell_type": "markdown",
   "metadata": {},
   "source": [
    "* For more info about list fucntions [refer this link](https://docs.python.org/3/library/stdtypes.html#sequence-types-list-tuple-range)"
   ]
  },
  {
   "cell_type": "markdown",
   "metadata": {},
   "source": [
    "## Tuples\n",
    " Tuples are unmutable Lists, They cant be updated <br>\n",
    " starts with ( and end with ), has data with , seperated values - (1,2,3,4)<br>\n",
    " "
   ]
  },
  {
   "cell_type": "code",
   "execution_count": 86,
   "metadata": {},
   "outputs": [
    {
     "name": "stdout",
     "output_type": "stream",
     "text": [
      "()\n",
      "1\n"
     ]
    }
   ],
   "source": [
    "new_tuple = ()\n",
    "print(new_tuple)\n",
    "new_tuple = (1)\n",
    "print(new_tuple)"
   ]
  },
  {
   "cell_type": "code",
   "execution_count": 1,
   "metadata": {},
   "outputs": [
    {
     "ename": "NameError",
     "evalue": "name 'new_tuple' is not defined",
     "output_type": "error",
     "traceback": [
      "\u001b[1;31m---------------------------------------------------------------------------\u001b[0m",
      "\u001b[1;31mNameError\u001b[0m                                 Traceback (most recent call last)",
      "\u001b[1;32m<ipython-input-1-27f88174da0c>\u001b[0m in \u001b[0;36m<module>\u001b[1;34m()\u001b[0m\n\u001b[0;32m      1\u001b[0m \u001b[1;31m#but updating and removing a element in tuple is not possible\u001b[0m\u001b[1;33m\u001b[0m\u001b[1;33m\u001b[0m\u001b[0m\n\u001b[1;32m----> 2\u001b[1;33m \u001b[0mnew_tuple\u001b[0m\u001b[1;33m[\u001b[0m\u001b[1;36m0\u001b[0m\u001b[1;33m]\u001b[0m \u001b[1;33m=\u001b[0m \u001b[1;36m10\u001b[0m\u001b[1;33m\u001b[0m\u001b[0m\n\u001b[0m\u001b[0;32m      3\u001b[0m \u001b[1;33m\u001b[0m\u001b[0m\n\u001b[0;32m      4\u001b[0m \u001b[1;32mdel\u001b[0m \u001b[0mnew_tuple\u001b[0m\u001b[1;33m[\u001b[0m\u001b[1;36m0\u001b[0m\u001b[1;33m]\u001b[0m\u001b[1;33m\u001b[0m\u001b[0m\n\u001b[0;32m      5\u001b[0m \u001b[1;33m\u001b[0m\u001b[0m\n",
      "\u001b[1;31mNameError\u001b[0m: name 'new_tuple' is not defined"
     ]
    }
   ],
   "source": [
    "#but updating and removing a element in tuple is not possible\n",
    "new_tuple[0] = 10\n",
    "\n",
    "del new_tuple[0]\n",
    "\n",
    "#Above statements will throw errors"
   ]
  },
  {
   "cell_type": "code",
   "execution_count": 37,
   "metadata": {},
   "outputs": [
    {
     "name": "stdout",
     "output_type": "stream",
     "text": [
      "(1, 2, 3, 4)\n"
     ]
    }
   ],
   "source": [
    "#By default python takes it as a tuple , not a list \n",
    "second_tuple = 1,2,3,4\n",
    "print(second_tuple)"
   ]
  },
  {
   "cell_type": "markdown",
   "metadata": {},
   "source": [
    "* For more info about tuples fucntions [refer this link](https://docs.python.org/3/library/stdtypes.html#tuple)"
   ]
  },
  {
   "cell_type": "markdown",
   "metadata": {},
   "source": [
    "### Complete  [Try it #11](SolivarLabs_Python_Excercises.ipynb#Try-it-#11)\n"
   ]
  },
  {
   "cell_type": "markdown",
   "metadata": {},
   "source": [
    "### Dictonaries\n",
    "As in a Dictonary , we have a word and its meaning, In python datastructure dictonary also has the key and value pairs. <br>\n",
    "\n",
    "Dictonary start with { and end with } and key value pairs are written as key:value and there could be multiple keyvalue pairs seperated by comma, as below <br>\n",
    "{'key1':'value1', 'key2':'value2', 'key3':'value3', 'key4':'value4'}<br>\n",
    "\n",
    "Below is our billing program rewritten using dictonaries for product costs.<br>"
   ]
  },
  {
   "cell_type": "code",
   "execution_count": 35,
   "metadata": {},
   "outputs": [
    {
     "name": "stdout",
     "output_type": "stream",
     "text": [
      "Enter the product Name, A, B, C, NM(No more): NM\n",
      "\n",
      "Your bill before discount -  0\n",
      "Your Final bill after discount -  0.0\n",
      "you saved -  0.0\n"
     ]
    }
   ],
   "source": [
    "product_costs = {'A':10,'B':20,'C':30,'Others':30}\n",
    "bill_amount = 0\n",
    "#Below is a function defintion \n",
    "def apply_discount(amount,discount):\n",
    "    #amount and discount are he parameters to the function\n",
    "    final_amount = amount - (amount*discount)/100\n",
    "    #final_amount is the return value from function, if there is nothing you can say return None\n",
    "    return final_amount\n",
    "\n",
    "for i in range(5):\n",
    "    #To take input from users\n",
    "    product_name  = input(\"Enter the product Name, A, B, C, NM(No more): \")\n",
    "    if(product_name == \"NM\"):\n",
    "        break\n",
    "    elif(product_name not in product_costs.keys() ):\n",
    "        print(\"Invalid product Name, check it again - \",product_name)\n",
    "        continue\n",
    "    elif(product_name in product_costs.keys()):\n",
    "        no_of_prods = input(\"Enter the number of products: \")\n",
    "        bill_amount += int(no_of_prods)*product_costs[product_name]\n",
    "    \n",
    "\n",
    "print(\"\\nYour bill before discount - \",bill_amount)\n",
    "#This is how the function call with arguments or parameters will work  \n",
    "final_bill_amount = apply_discount(bill_amount,20)\n",
    "print(\"Your Final bill after discount - \",final_bill_amount)\n",
    "print(\"you saved - \",bill_amount - final_bill_amount)"
   ]
  },
  {
   "cell_type": "markdown",
   "metadata": {},
   "source": [
    "#### Methods on Dictionaires"
   ]
  },
  {
   "cell_type": "code",
   "execution_count": 36,
   "metadata": {},
   "outputs": [
    {
     "name": "stdout",
     "output_type": "stream",
     "text": [
      "4\n",
      "{'Name': None, 'Age': None, 'Gender': None, 'Class': None}\n",
      "{'Name': 'Sample', 'Age': 'Sample', 'Gender': 'Sample', 'Class': 'Sample'}\n",
      "Value of a key A -  10\n",
      "Value of a Key D -  Not Available\n",
      "False\n",
      "True\n",
      "[('A', 10), ('B', 20), ('C', 30), ('Others', 30)]\n",
      "dict_keys(['A', 'B', 'C', 'Others'])\n",
      "dict_values([10, 20, 30, 30])\n",
      "{'A': 10, 'B': 20, 'C': 30, 'Others': 30, 'D': 15}\n"
     ]
    }
   ],
   "source": [
    "#No of key value pairs in dictionary. \n",
    "print(len(product_costs))\n",
    "\n",
    "#Converting a squence of keys into a dictonary\n",
    "col_names = ['Name','Age','Gender','Class']\n",
    "print(dict.fromkeys(col_names))\n",
    "print(dict.fromkeys(col_names, \"Sample\"))\n",
    "\n",
    "#Power of dictonary lies in providing access through keys\n",
    "print(\"Value of a key A - \",product_costs.get('A'))\n",
    "print(\"Value of a Key D - \",product_costs.get('D','Not Available'))\n",
    "\n",
    "#most of the times given a dictonary from other program, we need to check if the key exists before accessing it. \n",
    "print('D' in product_costs)\n",
    "print('B' in product_costs)\n",
    "\n",
    "#list of items in Dictonaries in the form of tuples, convert to loist to access it \n",
    "print(list(product_costs.items()))\n",
    "\n",
    "#list of keys in dictonary\n",
    "print(product_costs.keys())\n",
    "\n",
    "#list of Values in dictionary\n",
    "print(product_costs.values())\n",
    "\n",
    "#Sometimes when we add key value pairs we are not sure, if there are already a key value in the dictionary\n",
    "product_costs.setdefault(\"D\",15)\n",
    "print(product_costs)"
   ]
  },
  {
   "cell_type": "markdown",
   "metadata": {},
   "source": [
    "* For more info about dictionary fucntions [refer this link](https://docs.python.org/3/library/stdtypes.html#dict)"
   ]
  },
  {
   "cell_type": "markdown",
   "metadata": {},
   "source": [
    "###  Sets\n",
    "\n",
    "A set object is an unordered collection of distinct hashable objects. Common uses include membership testing, removing duplicates from a sequence, and computing mathematical operations such as intersection, union, difference, and symmetric difference.<br>\n",
    "\n",
    "For more detailed info on Sets [Refer here](https://docs.python.org/3/library/stdtypes.html#set-types-set-frozenset)"
   ]
  },
  {
   "cell_type": "code",
   "execution_count": 41,
   "metadata": {
    "collapsed": true
   },
   "outputs": [],
   "source": [
    "first_set = set([1,2,3,3,1,2,4,5])\n",
    "second_set = set([22,4,1,8,9,9])"
   ]
  },
  {
   "cell_type": "code",
   "execution_count": 42,
   "metadata": {},
   "outputs": [
    {
     "name": "stdout",
     "output_type": "stream",
     "text": [
      "5\n",
      "False\n"
     ]
    },
    {
     "data": {
      "text/plain": [
       "False"
      ]
     },
     "execution_count": 42,
     "metadata": {},
     "output_type": "execute_result"
    }
   ],
   "source": [
    "print(len(first_set))\n",
    "\n",
    "print(3 in second_set)\n",
    "\n",
    "print(first_set.issubset(second_set))\n"
   ]
  },
  {
   "cell_type": "markdown",
   "metadata": {},
   "source": [
    "#### Functions on Sets"
   ]
  },
  {
   "cell_type": "code",
   "execution_count": 45,
   "metadata": {},
   "outputs": [
    {
     "name": "stdout",
     "output_type": "stream",
     "text": [
      "{1, 2, 3, 4, 5, 8, 9, 22}\n",
      "{1, 4}\n",
      "{8, 9, 22}\n"
     ]
    }
   ],
   "source": [
    "print(first_set.union(second_set))\n",
    "\n",
    "print(first_set.intersection(second_set))\n",
    "\n",
    "print(second_set.difference(first_set))\n",
    "\n",
    "#Few more functions on sets Add, Remove, Discard, Clear"
   ]
  },
  {
   "cell_type": "markdown",
   "metadata": {},
   "source": [
    "* To get more details and function details on Sets, [Refer to this link](https://docs.python.org/3/library/stdtypes.html#set)"
   ]
  },
  {
   "cell_type": "markdown",
   "metadata": {},
   "source": [
    "### Strings\n",
    "\n",
    "String can be represented either as \"string\" or 'string' \n",
    "\n",
    "For more information on Strings diferent functions, [refer this link](https://docs.python.org/3/library/stdtypes.html#str)\n",
    "\n",
    "for more details on format and template, [refer here](https://docs.python.org/3/library/string.html)"
   ]
  },
  {
   "cell_type": "code",
   "execution_count": 62,
   "metadata": {
    "scrolled": true
   },
   "outputs": [
    {
     "name": "stdout",
     "output_type": "stream",
     "text": [
      "13\n",
      "Python_string\n",
      "python_string\n",
      "2\n",
      "2\n",
      "False\n",
      "True\n",
      "False\n",
      "False\n",
      "PYTHON_STRING\n",
      "python_string\n",
      "python_strings\n",
      "['python_string']\n",
      "['python', 'string']\n",
      "spaces\n",
      "dollars\n",
      "pYTHON\n",
      "All Words Are Important\n"
     ]
    }
   ],
   "source": [
    "first_string = 'python_string'\n",
    "second_string = '123'\n",
    "\n",
    "print(len(first_string))\n",
    "\n",
    "print(first_string.capitalize())\n",
    "\n",
    "print(first_string.casefold())\n",
    "\n",
    "print(first_string.count('n'))\n",
    "\n",
    "print(first_string.find('t'))\n",
    "\n",
    "print(first_string.isalnum())\n",
    "print(second_string.isalnum())\n",
    "\n",
    "print(first_string.isalpha())\n",
    "print(second_string.isalpha())\n",
    "\n",
    "'''Similarly we have, isdecimal , isdigit, isidentifier, islower, isnumeric, isprintable, isspace, istitle, isupper\n",
    "its good to know about all of them. '''\n",
    "\n",
    "print(first_string.upper())\n",
    "print(first_string.lower())\n",
    "\n",
    "print(first_string.replace('string','strings'))\n",
    "\n",
    "print(first_string.split())\n",
    "print(first_string.split('_'))\n",
    "\n",
    "print('  spaces  '.strip())\n",
    "print('$$dollars$$'.strip('$'))\n",
    "#there rstrip and lstrip for right and left only strip\n",
    "\n",
    "print('Python'.swapcase())\n",
    "print('all words are important'.title())"
   ]
  },
  {
   "cell_type": "code",
   "execution_count": 75,
   "metadata": {},
   "outputs": [
    {
     "name": "stdout",
     "output_type": "stream",
     "text": [
      "format has the values to be printed first third second\n",
      "Hello John, Good Morning.\n",
      "Hello Ram, Good Night.\n"
     ]
    }
   ],
   "source": [
    "print(\"format has the values to be printed {0} {2} {1}\".format(\"first\",\"second\",\"third\"))\n",
    "\n",
    "print(\"Hello %(name)s, Good %(wishes)s.\" % {'name':'John', 'wishes':'Morning'})\n",
    "print(\"Hello %(name)s, Good %(wishes)s.\" % {'name':'Ram', 'wishes':'Night'})"
   ]
  },
  {
   "cell_type": "markdown",
   "metadata": {},
   "source": [
    "### File operations\n",
    "\n",
    "This section deals with how you can read a file , write to a file and other operations. <br>\n",
    "\n",
    "Writing to a File"
   ]
  },
  {
   "cell_type": "code",
   "execution_count": 3,
   "metadata": {},
   "outputs": [
    {
     "name": "stdout",
     "output_type": "stream",
     "text": [
      "learn_python.txt\n"
     ]
    }
   ],
   "source": [
    "#open a file with certain access\n",
    "file_access = open('learn_python.txt','w+')\n",
    "\n",
    "file_access.write(\"I am writing this string to the file through file object\")\n",
    "\n",
    "print(file_access.name)\n",
    "\n",
    "#clsoe the file object\n",
    "file_access.close()"
   ]
  },
  {
   "cell_type": "markdown",
   "metadata": {},
   "source": [
    "Reading from a File"
   ]
  },
  {
   "cell_type": "code",
   "execution_count": 4,
   "metadata": {
    "scrolled": true
   },
   "outputs": [
    {
     "name": "stdout",
     "output_type": "stream",
     "text": [
      "I am writing th\n"
     ]
    }
   ],
   "source": [
    "import os\n",
    "file_again = open('learn_python.txt','r+')\n",
    "\n",
    "#read method can take argument which will tell how many character needs to be read, if not specified it will read everything. \n",
    "print(file_again.read(15))\n",
    "#os.getcwd()    \n",
    "file_again.close();"
   ]
  },
  {
   "cell_type": "code",
   "execution_count": 8,
   "metadata": {},
   "outputs": [
    {
     "ename": "FileNotFoundError",
     "evalue": "[WinError 2] The system cannot find the file specified: 'learn_python.txt' -> 'learnpython.txt'",
     "output_type": "error",
     "traceback": [
      "\u001b[1;31m---------------------------------------------------------------------------\u001b[0m",
      "\u001b[1;31mFileNotFoundError\u001b[0m                         Traceback (most recent call last)",
      "\u001b[1;32m<ipython-input-8-022a6f227ff1>\u001b[0m in \u001b[0;36m<module>\u001b[1;34m()\u001b[0m\n\u001b[0;32m      3\u001b[0m \u001b[1;33m\u001b[0m\u001b[0m\n\u001b[0;32m      4\u001b[0m \u001b[1;31m#renaming file name\u001b[0m\u001b[1;33m\u001b[0m\u001b[1;33m\u001b[0m\u001b[0m\n\u001b[1;32m----> 5\u001b[1;33m \u001b[0mos\u001b[0m\u001b[1;33m.\u001b[0m\u001b[0mrename\u001b[0m\u001b[1;33m(\u001b[0m\u001b[1;34m\"learn_python.txt\"\u001b[0m\u001b[1;33m,\u001b[0m\u001b[1;34m\"learnpython.txt\"\u001b[0m\u001b[1;33m)\u001b[0m\u001b[1;33m\u001b[0m\u001b[0m\n\u001b[0m\u001b[0;32m      6\u001b[0m \u001b[1;33m\u001b[0m\u001b[0m\n\u001b[0;32m      7\u001b[0m \u001b[1;31m#Deleting the file\u001b[0m\u001b[1;33m\u001b[0m\u001b[1;33m\u001b[0m\u001b[0m\n",
      "\u001b[1;31mFileNotFoundError\u001b[0m: [WinError 2] The system cannot find the file specified: 'learn_python.txt' -> 'learnpython.txt'"
     ]
    }
   ],
   "source": [
    "import os\n",
    "#os level file operations\n",
    "\n",
    "#renaming file name \n",
    "os.rename(\"learn_python.txt\",\"learnpython.txt\")\n",
    "\n",
    "#Deleting the file\n",
    "os.remove(\"learnpython.txt\")\n",
    "\n",
    "#Create directory\n",
    "os.mkdir(\"pythondir\")\n",
    "\n",
    "#get present working director\n",
    "print(os.getcwd())\n",
    "\n",
    "#changing the director\n",
    "os.chdir(\"pythondir\")"
   ]
  },
  {
   "cell_type": "markdown",
   "metadata": {},
   "source": [
    "\n",
    "### Exception handling"
   ]
  },
  {
   "cell_type": "code",
   "execution_count": null,
   "metadata": {},
   "outputs": [],
   "source": []
  },
  {
   "cell_type": "markdown",
   "metadata": {},
   "source": [
    "* For official reference of Python [Refer this link](https://docs.python.org/3/library/index.html)"
   ]
  },
  {
   "cell_type": "code",
   "execution_count": null,
   "metadata": {
    "collapsed": true
   },
   "outputs": [],
   "source": []
  }
 ],
 "metadata": {
  "kernelspec": {
   "display_name": "Python 3",
   "language": "python",
   "name": "python3"
  },
  "language_info": {
   "codemirror_mode": {
    "name": "ipython",
    "version": 3
   },
   "file_extension": ".py",
   "mimetype": "text/x-python",
   "name": "python",
   "nbconvert_exporter": "python",
   "pygments_lexer": "ipython3",
   "version": "3.6.1"
  }
 },
 "nbformat": 4,
 "nbformat_minor": 2
}
