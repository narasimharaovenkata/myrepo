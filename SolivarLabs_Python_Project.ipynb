{
 "cells": [
  {
   "cell_type": "markdown",
   "metadata": {},
   "source": [
    "## Project 01 - Find nearest Govt Health Center\n",
    "\n",
    "You have been given with a csv file with all the health center details with latitiude and longitude in India. <br>\n",
    "\n",
    "Funny side, Somu after paying so many bills is feelign sick and wants to find the nearest hospital and meet the doctor. <br>\n",
    "\n",
    "below project should be able to take input of Latitiude and Longitude from the user and provide the nearest government health center details. <br>\n",
    "\n",
    "[the csv file link](https://data.gov.in/catalog/all-india-health-centres-directory)<br>\n",
    "or <br>\n",
    "[Direct Link](https://github.com/rajasekharsl/myrepo/blob/master/geocode_health_centre.csv) Click on Download button<br>\n",
    "\n",
    "File has data in below format, \n",
    "\n",
    "State Name,\tDistrict Name,\tSubdistrict Name,\tFacility Type,\tFacility Name,\tFacility Address,\tLatitude,\tLongitude,\tActiveFlag_C,\tNOTIONAL_PHYSICAL,\tLocation Type,\tType Of Facility,\tNin_N\n",
    "\n",
    "Andhra Pradesh,\tVishakapatnam,\tCHC Bheemilipatnam,\tchc\tBheemilipatnam,\tNA,\t17.887517,\t83.44568,\tY,\tPhysical,\tUrban,\tPublic,\t1111658272\n",
    "\n",
    "[Code to get Nearest LatLong](#NearestLatlong)"
   ]
  },
  {
   "cell_type": "markdown",
   "metadata": {},
   "source": [
    "#### NearestLatlong\n",
    "<br>\n",
    "<pre>\n",
    "from math import radians, sin, cos, acos\n",
    "\n",
    "\n",
    "def nearest_two_latlongs(slatlon,dlatlon1,dlatlon2):\n",
    "  dist1 = 6371.01 * acos(sin(slatlon[0])*sin(dlatlon1[0]) + cos(slatlon[0])*cos(dlatlon1[0])*cos(slatlon[1] - dlatlon1[1]))<br>\n",
    "  dist2 = 6371.01 * acos(sin(slatlon[0])*sin(dlatlon2[0]) + cos(slatlon[0])*cos(dlatlon2[0])*cos(slatlon[1] - dlatlon2[1]))<br>\n",
    "  \n",
    "  if(dist1 &lt;= dist2):\n",
    "    return dlatlon1\n",
    "  else:\n",
    "    return dlatlon2\n",
    "    \n",
    "  return \"Sorry, Couldn't find the nearest, Check the latlongs.\"\n",
    "  \n",
    "</pre>  \n",
    "\n",
    "copy the above method into your project<br>\n",
    "call method nearest_two_latlongs(source_latlong_list,first_scenter_latlong_list,second_hcenter_latlong_list) as below <br>\n",
    "print(\"Nearest Health Center is \" ,nearest_two_latlongs([17.731277,\t83.315387], [17.720752, 83.284715], [17.765157, 83.356231]))<br>"
   ]
  },
  {
   "cell_type": "code",
   "execution_count": null,
   "metadata": {
    "collapsed": true
   },
   "outputs": [],
   "source": []
  },
  {
   "cell_type": "markdown",
   "metadata": {},
   "source": [
    "## Project 02 - Allocate Lab System to Students\n",
    "<pre>\n",
    "There are list of students who need to either practice programming or need to give a test and you need allocate lab systems in your college to these students. \n",
    "\n",
    "Below is the list of students and their roll numbers, \n",
    "Student_list = {'Raja':701,'Teja':702,'Suraj':770...}\n",
    "Name - Raja , Roll Number - 701\n",
    "\n",
    "List of Labs and their system allocation status is as given below\n",
    "\n",
    "{'MCA Lab':{'1':['Free','Good'],'2':['Allocated','Repair'],'3':['Free','Good'] ....}, 'Cisco Lab':{'1':['Free','Good'],'2':['Allocated','Repair'],'3':['Free','Good'] ....}}\n",
    "\n",
    "Main dictonary - Lab Name : dicitonary of System ID's\n",
    "Second Dictionary - System ID : [Allocation status , Repair status]\n",
    "\n",
    "Allocate the system to students in order of the ID's and Labs as below\n",
    "\n",
    "Raja - 701 - MCA Lab - 1\n",
    "Teja - 701 - MCA Lab - 3\n",
    "Suraj - 770 - Cisco Lab - 1\n",
    "\n",
    "</pre>"
   ]
  },
  {
   "cell_type": "code",
   "execution_count": 7,
   "metadata": {},
   "outputs": [
    {
     "name": "stdout",
     "output_type": "stream",
     "text": [
      "MCA -  ['1', '3']\n",
      "Cisco -  ['1', '2']\n"
     ]
    }
   ],
   "source": [
    "#Write your project code here\n",
    "lab_system_details = {'MCA Lab':{'1':['Free','Good'],'2':['Allocated','Repair'],'3':['Free','Good'] }, 'Cisco Lab':{'1':['Free','Good'],'2':['Free','Good'],'3':['Allocated','Repair']}}\n",
    "\n",
    "def get_list_of_free_systems(lab_name):\n",
    "    global lab_system_details\n",
    "    free_system = []\n",
    "    if lab_name in lab_system_details.keys():\n",
    "        lab_systems = lab_system_details[lab_name]\n",
    "        for system_id in lab_systems.keys():\n",
    "            if lab_systems[system_id][0] == 'Free':\n",
    "                free_system.append(system_id)\n",
    "\n",
    "    return free_system\n",
    "\n",
    "def get_list_of_good_systems(lab_name):\n",
    "    global lab_system_details\n",
    "    good_system = []\n",
    "    if lab_name in lab_system_details.keys():\n",
    "        lab_systems = lab_system_details[lab_name]\n",
    "        for system_id in lab_systems.keys():\n",
    "            if lab_systems[system_id][1] == 'Good':\n",
    "                good_system.append(system_id)\n",
    "\n",
    "    return good_system\n",
    "\n",
    "\n",
    "\n",
    "print('MCA - ',get_list_of_free_systems('MCA Lab'))\n",
    "print('Cisco - ',get_list_of_good_systems('Cisco Lab'))"
   ]
  },
  {
   "cell_type": "code",
   "execution_count": null,
   "metadata": {
    "collapsed": true
   },
   "outputs": [],
   "source": []
  }
 ],
 "metadata": {
  "kernelspec": {
   "display_name": "Python 3",
   "language": "python",
   "name": "python3"
  },
  "language_info": {
   "codemirror_mode": {
    "name": "ipython",
    "version": 3
   },
   "file_extension": ".py",
   "mimetype": "text/x-python",
   "name": "python",
   "nbconvert_exporter": "python",
   "pygments_lexer": "ipython3",
   "version": "3.6.1"
  }
 },
 "nbformat": 4,
 "nbformat_minor": 2
}
