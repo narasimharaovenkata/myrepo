{
 "cells": [
  {
   "cell_type": "markdown",
   "metadata": {},
   "source": [
    "## Project - Find nearest Govt Health Center\n",
    "\n",
    "You have been given with a csv file with all the health center details with latitiude and longitude in India. <br>\n",
    "\n",
    "Funny side, Somu after paying so many bills is feelign sick and wants to find the nearest hospital and meet the doctor. <br>\n",
    "\n",
    "below project should be able to take input of Latitiude and Longitude from the user and provide the nearest government health center details. <br>\n",
    "\n",
    "[the csv file link](https://data.gov.in/catalog/all-india-health-centres-directory)<br>\n",
    "or <br>\n",
    "[Direct Link](https://github.com/rajasekharsl/myrepo/blob/master/geocode_health_centre.csv) Click on Download button<br>\n",
    "\n",
    "File has data in below format, \n",
    "\n",
    "State Name,\tDistrict Name,\tSubdistrict Name,\tFacility Type,\tFacility Name,\tFacility Address,\tLatitude,\tLongitude,\tActiveFlag_C,\tNOTIONAL_PHYSICAL,\tLocation Type,\tType Of Facility,\tNin_N\n",
    "\n",
    "Andhra Pradesh,\tVishakapatnam,\tCHC Bheemilipatnam,\tchc\tBheemilipatnam,\tNA,\t17.887517,\t83.44568,\tY,\tPhysical,\tUrban,\tPublic,\t1111658272\n",
    "\n",
    "[Code to get Nearest LatLong](#NearestLatlong)"
   ]
  },
  {
   "cell_type": "markdown",
   "metadata": {},
   "source": [
    "#### NearestLatlong\n",
    "<pre>\n",
    "from math import radians, sin, cos, acos\n",
    "\n",
    "\n",
    "def nearest_two_latlongs(slatlon,dlatlon1,dlatlon2):\n",
    "  dist1 = 6371.01 * acos(sin(slatlon[0])*sin(dlatlon1[0]) + cos(slatlon[0])*cos(dlatlon1[0])*cos(slatlon[1] - dlatlon1[1]))<br>\n",
    "  dist2 = 6371.01 * acos(sin(slatlon[0])*sin(dlatlon2[0]) + cos(slatlon[0])*cos(dlatlon2[0])*cos(slatlon[1] - dlatlon2[1]))<br>\n",
    "  \n",
    "  if(dist1 <= dist2):\n",
    "    return dlatlon1\n",
    "  else:\n",
    "    return dlatlon2\n",
    "    \n",
    "  return \"Sorry, Couldn't find the nearest, Check the latlongs.\"\n",
    "  \n",
    "</pre>  \n",
    "\n",
    "#copy the above method into your project\n",
    "#call method nearest_two_latlongs(source_latlong_list,first_scenter_latlong_list,second_hcenter_latlong_list) as below\n",
    "#print(\"Nearest Health Center is \" ,nearest_two_latlongs([17.731277,\t83.315387], [17.720752, 83.284715], [17.765157, 83.356231]))"
   ]
  },
  {
   "cell_type": "code",
   "execution_count": null,
   "metadata": {
    "collapsed": true
   },
   "outputs": [],
   "source": []
  }
 ],
 "metadata": {
  "kernelspec": {
   "display_name": "Python 3",
   "language": "python",
   "name": "python3"
  },
  "language_info": {
   "codemirror_mode": {
    "name": "ipython",
    "version": 3
   },
   "file_extension": ".py",
   "mimetype": "text/x-python",
   "name": "python",
   "nbconvert_exporter": "python",
   "pygments_lexer": "ipython3",
   "version": "3.6.1"
  }
 },
 "nbformat": 4,
 "nbformat_minor": 2
}
