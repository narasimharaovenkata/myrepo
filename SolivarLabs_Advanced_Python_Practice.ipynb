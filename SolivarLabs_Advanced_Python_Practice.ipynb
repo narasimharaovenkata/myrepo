{
 "cells": [
  {
   "cell_type": "markdown",
   "metadata": {},
   "source": [
    "# Advanced Python Practice\n",
    "\n",
    "Assuming you are good with Python programmign with Variables, Operators, Functions, Loops, Condition statements, Data Structures, File Handling and Exception Handling. \n",
    "\n",
    "This workshop will help you deal much complex problem and also a solution on how you offer your solutions to real world. "
   ]
  },
  {
   "cell_type": "markdown",
   "metadata": {},
   "source": [
    "###  What are you going to learn \n",
    "<pre>\n",
    "    Datetime\n",
    "    List comprehension\n",
    "    API setup and access\n",
    "    Json Data communication\n",
    "    Python Classes(OOPS)\n",
    "    Scrapy or Pandas or Django\n",
    "\n",
    "</pre>"
   ]
  },
  {
   "cell_type": "markdown",
   "metadata": {},
   "source": [
    "### Datetime"
   ]
  },
  {
   "cell_type": "code",
   "execution_count": null,
   "metadata": {},
   "outputs": [],
   "source": [
    "\n",
    "import datetime\n",
    "\n",
    "# Get todays date time\n",
    "print(\"Today date and time - \", datetime.datetime.today())\n",
    "#or\n",
    "print(\"Date and time now - \",datetime.datetime.now())"
   ]
  },
  {
   "cell_type": "code",
   "execution_count": null,
   "metadata": {},
   "outputs": [],
   "source": [
    "#only date \n",
    "dat = datetime.date.today()\n",
    "print(\"today date - \",dat)\n",
    "print(\"custom date - \",datetime.date(1985,11,12))\n",
    "\n",
    "#only time\n",
    "tim = datetime.time(3,30)\n",
    "print(\"custom time - \",tim)"
   ]
  },
  {
   "cell_type": "code",
   "execution_count": null,
   "metadata": {},
   "outputs": [],
   "source": [
    "#Create your own date time\n",
    "custom_dt = datetime.datetime(1985,11,12,3,3,0)\n",
    "print(\"my custom date\",custom_dt)"
   ]
  },
  {
   "cell_type": "code",
   "execution_count": null,
   "metadata": {},
   "outputs": [],
   "source": [
    "#By default datetime uses ISO 8601 format\n",
    "\n",
    "present_dt = datetime.datetime.today()\n",
    "print(\"Present date time - \",present_dt)\n",
    "\n",
    "# we can format datetime as per requirement \n",
    "format = \"%a %b %d\"\n",
    "present_dt.strftime(format)\n",
    "\n",
    "# to get complete list of possible date formating \n",
    "# check this site , http://strftime.org/\n",
    "format = \"%a %b %d %H:%M:%S\"\n",
    "present_dt.strftime(format)\n"
   ]
  },
  {
   "cell_type": "code",
   "execution_count": null,
   "metadata": {},
   "outputs": [],
   "source": [
    "#Calculate time difference\n",
    "print(present_dt-custom_dt)\n",
    "\n",
    "#How to add a day to present date \n",
    "\n",
    "# present-dt + 1 doesnt work , you can't directly add, you can use replace and change date\n",
    "tom_dt = present_dt.replace(day=present_dt.day + 1)\n",
    "print(\"Result date - \",tom_dt)\n",
    "\n",
    "# or you can create datetime object with required difference\n",
    "one_day = datetime.timedelta(days=1)\n",
    "print(\"one day - \",one_day)\n",
    "print(\"Tomorow - \",present_dt+one_day)\n",
    "print(\"Yesterday - \",present_dt-one_day)\n"
   ]
  },
  {
   "cell_type": "code",
   "execution_count": null,
   "metadata": {},
   "outputs": [],
   "source": [
    "#timezones are one critical thing\n",
    "#especially if you are working on cloud hosting\n",
    "from  pytz import timezone\n",
    "print(\"adding timezone to exisitng datetime\",timezone(\"Asia/Kolkata\").localize(present_dt))\n",
    "datetime.datetime.now(timezone(\"Asia/Kolkata\"))"
   ]
  },
  {
   "cell_type": "code",
   "execution_count": null,
   "metadata": {
    "collapsed": true
   },
   "outputs": [],
   "source": [
    "#Write a function which will calculate your age\n",
    "#Calculate age if you are born in US and you live in India \n",
    "\n",
    "#write your code here"
   ]
  },
  {
   "cell_type": "markdown",
   "metadata": {},
   "source": [
    "### List Comprehension"
   ]
  },
  {
   "cell_type": "markdown",
   "metadata": {},
   "source": [
    "<img src=\"listComprehensions.gif\" /> "
   ]
  },
  {
   "cell_type": "code",
   "execution_count": null,
   "metadata": {},
   "outputs": [],
   "source": [
    "#If a room of 500 capacity can have x rows and x columns , Possible value of x\n",
    "\n",
    "max([x for x in range(30) if  x*x < 500 ])"
   ]
  },
  {
   "cell_type": "code",
   "execution_count": null,
   "metadata": {},
   "outputs": [],
   "source": [
    "# In a party of 40 members everyone is given ids first 20 are children and next 20 are parents ,\n",
    "# surprisingly few of the children got half of their parent id \n",
    "\n",
    "[[x,y] for x in range(1,21) for y in range(21,41) if y/x == 2]"
   ]
  },
  {
   "cell_type": "code",
   "execution_count": null,
   "metadata": {},
   "outputs": [],
   "source": [
    "#Find how many members are youth (18 to 25 yrs)\n",
    "members_age=[23,25,65,22,43,32,18]\n",
    "len([x for x in members_age if x >=18 and x <= 25])"
   ]
  },
  {
   "cell_type": "markdown",
   "metadata": {},
   "source": [
    "### API\n",
    "<pre>( Application Programming Interface ) \n",
    "API is used to communicate between different applications or components etc. \n",
    "API's are the way we can process data, access tools, databases or frameworks on backend.\n",
    "\n",
    "We use API's for 2 main purpose to let other application connect to you or to connect with other application. \n",
    "</pre>\n"
   ]
  },
  {
   "cell_type": "markdown",
   "metadata": {},
   "source": [
    "<img src=\"api.png\" />"
   ]
  },
  {
   "cell_type": "markdown",
   "metadata": {},
   "source": [
    " <pre>\n",
    " Install Apache [download link] (https://www.apachelounge.com/download/) <br>\n",
    " unzip the file, Copy the Apache24 folder to C drive \n",
    "  \n",
    " Configure CGI Scripts to Python\n",
    " \n",
    " conf folder http.conf file\n",
    " Change [Options](https://docstore.mik.ua/orelly/linux/apache/ch03_11.htm) as below, add ExecCGI at the end. \n",
    " \n",
    " <i> Options Indexes FollowSymLinks <b>ExecCGI</b> </i>\n",
    " \n",
    " uncomment the below line and add .py at the end of the line\n",
    " \n",
    " <i> AddHandler cgi-script .cgi <b>.py</b> </i>\n",
    " \n",
    " add additioanl index.py at the end,so that server will look for that by default\n",
    " \n",
    " <i>DirectoryIndex index.html <b>index.py</b></i>\n",
    "\n",
    "After these changes,\n",
    "\n",
    "open command prompt as administrator \n",
    " change directory to c:\\Apache24\\bin\n",
    " \n",
    " Run below commands \n",
    " \n",
    " http.exe -k install \n",
    " (to install appache as service)\n",
    " \n",
    " http.exe -k start\n",
    " (to start apache server)\n",
    " \n",
    " open browser and run localhost, if it doesnt run there could be servername error. \n",
    " if there is any error check log files in c:\\Apache24\\logs folder. \n",
    " </pre>"
   ]
  },
  {
   "cell_type": "markdown",
   "metadata": {},
   "source": [
    "<pre>\n",
    "Now that setup is ready \n",
    "Lets build our api\n",
    "create your project site folder inside c:\\Apache24\\htdocs (pysite)\n",
    "inside pysite folder create a file index.py\n",
    "\n",
    "</pre>"
   ]
  },
  {
   "cell_type": "code",
   "execution_count": null,
   "metadata": {},
   "outputs": [],
   "source": [
    "#add below code to index.py file \n",
    "\n",
    "#! c:\\Anaconda3\\python\n",
    "print (\"Content-Type: text/html\\r\\n\")\n",
    "print(\"<!DOCTYPE html>\")\n",
    "print(\"<html><body>\")\n",
    "print(\"Reply from your first API\")\n",
    "print(\"</body></html>\")\n",
    "\n",
    "#First line (shebang) should point to your Anaconda python or normal python3 in your local system"
   ]
  },
  {
   "cell_type": "markdown",
   "metadata": {},
   "source": [
    "Now go to browser and run below link<br>\n",
    "http://localhost/pysite <br>\n",
    "chamge pysite to your own folder, if you see an error , check logs folder for error and resolve it. "
   ]
  },
  {
   "cell_type": "code",
   "execution_count": null,
   "metadata": {},
   "outputs": [],
   "source": [
    "#passing parameters to the API \n",
    "#to read the parameters (as GET POST) in python we cgi module and FieldStorage method as below\n",
    "\n",
    "#! c:\\Anaconda3\\python\n",
    "import cgi\n",
    "\n",
    "print (\"Content-Type: text/html\\r\\n\")\n",
    "print(\"<!DOCTYPE html>\")\n",
    "print(\"<html><body>\")\n",
    "print(\"Reply from your first API<br>\")\n",
    "\n",
    "arguments = cgi.FieldStorage()\n",
    "for i in arguments.keys():\n",
    " print (i,arguments[i].value,\"<br>\")\n",
    "\n",
    "print(\"</body></html>\")"
   ]
  },
  {
   "cell_type": "markdown",
   "metadata": {},
   "source": [
    "<pre>\n",
    "Now go to browser and run below link\n",
    "http://localhost/pysite?name=Raja&mobile=7702777416\n",
    "chamge pysite to your own folder, if you see an error , check logs folder for error and resolve it. \n",
    "</pre>\n"
   ]
  },
  {
   "cell_type": "code",
   "execution_count": null,
   "metadata": {},
   "outputs": [],
   "source": [
    "#Now that you have built an API for anyone else to access. \n",
    "\n",
    "#How do you access some other application or project API\n",
    "\n",
    "import requests\n",
    "\n",
    "url = \"http://localhost/pysite/?name=Raja&mobile=7702777416\"\n",
    "\n",
    "#This is a get request\n",
    "response = requests.get(url)\n",
    "\n",
    "print(response.content)"
   ]
  },
  {
   "cell_type": "code",
   "execution_count": null,
   "metadata": {
    "collapsed": true
   },
   "outputs": [],
   "source": [
    "# For students who have done your project, add your project file here in the folder\n",
    "# add first line and see how you can run it as API\n",
    "\n",
    "#Write your code here"
   ]
  },
  {
   "cell_type": "code",
   "execution_count": null,
   "metadata": {},
   "outputs": [],
   "source": [
    "#How to pass parameters from Python to the URL\n",
    "\n",
    "import requests\n",
    "\n",
    "url = \"http://localhost/pysite/\"\n",
    "data = {'name':'Raja','mobile':7702777416}\n",
    "#This is a post request\n",
    "response = requests.post(url,data)\n",
    "\n",
    "print(response.content)"
   ]
  },
  {
   "cell_type": "code",
   "execution_count": null,
   "metadata": {
    "collapsed": true
   },
   "outputs": [],
   "source": [
    "#Together lets try to access an API from data.gov.in \n",
    "#example the previous health center data api or any other api \n",
    "\n",
    "\n"
   ]
  },
  {
   "cell_type": "markdown",
   "metadata": {},
   "source": [
    "### Json\n",
    "\n",
    "<pre>\n",
    "\n",
    "JSON (JavaScript Object Notation) is a compact, text based format for computers to exchange data. The official Internet media type for JSON is application/json, and the JSON filename extension is .json\n",
    "\n",
    "Json structure \n",
    "Unordered set of name/value pairs. \n",
    "Begins with { and ends with }. \n",
    "Each name is followed by : (colon) \n",
    "The name/value pairs are separated by , (comma).\n",
    "\n",
    "Feels like heard some where ? \n",
    "Yes structure is very much similar to Dictonary, so what is the difference ? \n",
    "</pre>\n"
   ]
  },
  {
   "cell_type": "code",
   "execution_count": null,
   "metadata": {},
   "outputs": [],
   "source": [
    "#Lookup and tell me what is the difference between json and dictonary\n",
    "\n",
    "#Sample Google Maps Json Data\n",
    "import json\n",
    "data = {\n",
    "  \"markers\": [\n",
    "    {\n",
    "      \"name\": \"Rixos The Palm Dubai\",\n",
    "      \"position\": [25.1212, 55.1535],\n",
    "    },\n",
    "    {\n",
    "      \"name\": \"Shangri-La Hotel\",\n",
    "      \"location\": [25.2084, 55.2719]\n",
    "    },\n",
    "    {\n",
    "      \"name\": \"Grand Hyatt\",\n",
    "      \"location\": [25.2285, 55.3273]\n",
    "    }\n",
    "  ]\n",
    "}\n",
    "\n",
    "print(type(data))\n",
    "json_data = json.dumps(data)\n",
    "\n",
    "print(json.dumps(data))\n",
    "\n",
    "response = requests.get(\"https://jsonplaceholder.typicode.com/posts/1\")\n",
    "return_data = json.loads(response.text)\n",
    "print(\"\\nJson data from Api call - \", return_data , type(return_data))\n",
    "\n"
   ]
  },
  {
   "cell_type": "code",
   "execution_count": null,
   "metadata": {
    "collapsed": true
   },
   "outputs": [],
   "source": [
    "#Google and find open api online which will give json data and print it as below\n",
    "# -- key1 -- $ -- value1 --\n",
    "# -- key2 -- $ -- value2 --\n"
   ]
  },
  {
   "cell_type": "markdown",
   "metadata": {},
   "source": [
    "### Python Classes\n",
    "\n",
    "<pre>\n",
    "Functions that we learnt in python programming are good to put together specific task or operation, but what if we want to combine more than one methods and variables into one set or use them to describe specific object\n",
    "\n",
    "For example, Lets take a vending machine as below\n",
    "<img src=\"https://www.pointsonly.com/images/topics/57f0dcbe26663-BevMaxCoke.jpg\" />\n",
    "\n",
    "each vending machine will have certain properties and actions\n",
    "\n",
    "</pre>"
   ]
  },
  {
   "cell_type": "code",
   "execution_count": null,
   "metadata": {
    "collapsed": true
   },
   "outputs": [],
   "source": [
    "#Lets add few parameters about a vending machine\n",
    "\n",
    "class Vending_machine:\n",
    "    no_of_rows = 5\n",
    "    no_of_products_per_row = 9\n",
    "    accept_cards = False\n",
    "    product_ids = []\n",
    "    machine_slots = []\n"
   ]
  },
  {
   "cell_type": "code",
   "execution_count": null,
   "metadata": {
    "collapsed": true
   },
   "outputs": [],
   "source": [
    "#Lets add few actions about a vending machine\n",
    "\n",
    "class Vending_machine:\n",
    "    no_of_rows = 5\n",
    "    no_of_products_per_row = 9\n",
    "    accept_cards = False\n",
    "    product_ids = []\n",
    "    machine_slots = [1,2,3,4,5,6,7,8,9,10]\n",
    "    \n",
    "    def give_product(self, prod_id):\n",
    "        if prod_id in self.product_ids:\n",
    "            self.despense_product(prod_id)\n",
    "        else: \n",
    "            print(\"Sorry the produc tis not present in the machine\")\n",
    "    def despense_product(self, prod_id):\n",
    "        prod_slot = self.check_product_availability(prod_id)\n",
    "        print(\"Please collect the product - \",prod_id)\n",
    "        #Call hardware action for prod_slot\n",
    "    def check_product_availability(self, prod_id):\n",
    "        #Checks each slot for product availability using sensors\n",
    "        #i am senging a dummy response here\n",
    "        dummy_slot = 10\n",
    "        return dummy_slot\n",
    "    def load_products(self):\n",
    "        self.product_ids = [101,102,103,104,105]"
   ]
  },
  {
   "cell_type": "code",
   "execution_count": null,
   "metadata": {},
   "outputs": [],
   "source": [
    "drinks_vm = Vending_machine()\n",
    "print(\"no of rows in VM - \", drinks_vm.no_of_rows)\n",
    "\n",
    "#To start with its an empty Vending Machine, lets fill the vending machine\n",
    "drinks_vm.load_products()\n",
    "#Thanks buddy\n",
    "\n",
    "#Its time to drink\n",
    "drinks_vm.give_product(103)"
   ]
  },
  {
   "cell_type": "code",
   "execution_count": null,
   "metadata": {},
   "outputs": [],
   "source": [
    "# instead of calling load_products we can do it when ever we instanciate the vending machine using a init method\n",
    "\n",
    "#Lets add few actions about a vending machine\n",
    "\n",
    "class Vending_machine:\n",
    "    no_of_rows = 5\n",
    "    no_of_products_per_row = 9\n",
    "    accept_cards = False\n",
    "    product_ids = []\n",
    "    machine_slots = [1,2,3,4,5,6,7,8,9,10]\n",
    "    \n",
    "    def __init__(self, prod_ids):\n",
    "        self.product_ids = prod_ids\n",
    "    \n",
    "    def give_product(self, prod_id):\n",
    "        if prod_id in self.product_ids:\n",
    "            self.despense_product(prod_id)\n",
    "        else: \n",
    "            print(\"Looks like you entered wrong code, Please check and re-enter\")\n",
    "    def despense_product(self, prod_id):\n",
    "        prod_slot = self.check_product_availability(prod_id)\n",
    "        print(\"Please collect the product - \",prod_id)\n",
    "        #Call hardware action for prod_slot\n",
    "    def check_product_availability(self, prod_id):\n",
    "        #Checks each slot for product availability using sensors\n",
    "        #i am senging a dummy response here\n",
    "        dummy_slot = 10\n",
    "        return dummy_slot\n",
    "    def load_products(self):\n",
    "        self.product_ids = [101,102,103,104,105]\n",
    "        \n",
    "        \n",
    "snack_vm = Vending_machine([21,23,26,27.32])\n",
    "\n",
    "snack_vm.give_product(24)\n",
    "snack_vm.give_product(23)\n"
   ]
  },
  {
   "cell_type": "code",
   "execution_count": null,
   "metadata": {
    "collapsed": true
   },
   "outputs": [],
   "source": [
    "#Create a class for a Computer lab\n",
    "#Define properties and action in a way students, Instructor and Lab Assistant can use the lab\n",
    "#system allocation and checking system status needs to be present\n",
    "\n",
    "#write your code here"
   ]
  }
 ],
 "metadata": {
  "kernelspec": {
   "display_name": "Python 3",
   "language": "python",
   "name": "python3"
  },
  "language_info": {
   "codemirror_mode": {
    "name": "ipython",
    "version": 3
   },
   "file_extension": ".py",
   "mimetype": "text/x-python",
   "name": "python",
   "nbconvert_exporter": "python",
   "pygments_lexer": "ipython3",
   "version": "3.6.3"
  }
 },
 "nbformat": 4,
 "nbformat_minor": 2
}
