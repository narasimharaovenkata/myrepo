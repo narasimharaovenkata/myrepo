{
 "cells": [
    {
   "cell_type": "markdown",
   "metadata": {
    "deletable": true,
    "editable": true
   },
   "source": [
    "## Data Structures \n",
    "## Lists\n",
    "Basic concept of programming revolves around, how you <b>store, access, calculate and transfer data  </b><br>\n",
    "\n",
    "In python we have few key data structures, which simplify data operations as above <br>\n",
    "Lists, Dictonaries, Tuples, Sets<br>\n",
    "\n",
    "Lets discuss about Lists here <br>\n",
    "starts with [ and end with ], has data with , seperated values - [1,2,3,4] <br>\n",
    "data could be integers, strings, floats, lists and any other data types <br>\n",
    "Example below,"
   ]
  },
  {
   "cell_type": "code",
   "execution_count": null,
   "metadata": {
    "collapsed": false,
    "deletable": true,
    "editable": true
   },
   "outputs": [],
   "source": [
    "Product_cost_list = [10,20,30,30]\n",
    "print(\"Product_cost_list - \",Product_cost_list)\n",
    "products_list = [\"A\",\"B\",\"C\"]\n",
    "print(\"products_list - \",products_list)\n",
    "mixed_list = [19,25,67,\"Raj\",\"Suraj\",98,\"Teja\"]\n",
    "print(\"mixed_list - \",mixed_list)\n"
   ]
  },
  {
   "cell_type": "markdown",
   "metadata": {
    "deletable": true,
    "editable": true
   },
   "source": [
    "#### Accessing values in List"
   ]
  },
  {
   "cell_type": "code",
   "execution_count": null,
   "metadata": {
    "collapsed": false,
    "deletable": true,
    "editable": true
   },
   "outputs": [],
   "source": [
    "print(products_list[1],Product_cost_list[1])\n",
    "\n",
    "print(mixed_list[2:4],\"\\n\",mixed_list[:3],\"\\n\",mixed_list[3:],\"\\n\")\n",
    "\n",
    "#indexing of lists start from 0 to n-1 assuming there are n items in list. \n",
    "#and negative indexing starts from reverse index n-1 is equivalent to -1 and 0 is equal to -n\n",
    "# 0 1 2 3 4 5 6.....n-1\n",
    "# -n.....-4 -3 -2 -1\n",
    "\n",
    "print(mixed_list[6], mixed_list[-7])"
   ]
  },
  {
   "cell_type": "markdown",
   "metadata": {
    "deletable": true,
    "editable": true
   },
   "source": [
    "#### Updating Lists"
   ]
  },
  {
   "cell_type": "code",
   "execution_count": null,
   "metadata": {
    "collapsed": false,
    "deletable": true,
    "editable": true
   },
   "outputs": [],
   "source": [
    "print(mixed_list[2])\n",
    "mixed_list[2]=12\n",
    "print(mixed_list[2])"
   ]
  },
  {
   "cell_type": "code",
   "execution_count": null,
   "metadata": {
    "collapsed": false,
    "deletable": true,
    "editable": true
   },
   "outputs": [],
   "source": [
    "#you cant access or update a element not present\n",
    "products_list[3]='NM'"
   ]
  },
  {
   "cell_type": "markdown",
   "metadata": {
    "deletable": true,
    "editable": true
   },
   "source": [
    "you can't update or add an element using assignment to index. we do it using append, we will see it in next section. "
   ]
  },
  {
   "cell_type": "code",
   "execution_count": null,
   "metadata": {
    "collapsed": true,
    "deletable": true,
    "editable": true
   },
   "outputs": [],
   "source": [
    "#Create a list of friends as friends_list\n",
    "\n",
    "#access each friend name and wish him \"Hi <FriendName>\" \n",
    "\n",
    "#Update the third person name to \"Raja\"\n",
    "\n",
    "#Wish the third person Hi"
   ]
  },
  {
   "cell_type": "markdown",
   "metadata": {
    "deletable": true,
    "editable": true
   },
   "source": [
    "#### Delete List element"
   ]
  },
  {
   "cell_type": "code",
   "execution_count": null,
   "metadata": {
    "collapsed": false,
    "deletable": true,
    "editable": true
   },
   "outputs": [],
   "source": [
    "print(mixed_list)\n",
    "del mixed_list[4]\n",
    "print(mixed_list)\n",
    "#del mixed_list\n"
   ]
  },
  {
   "cell_type": "markdown",
   "metadata": {
    "deletable": true,
    "editable": true
   },
   "source": [
    "#### Basic List Operations"
   ]
  },
  {
   "cell_type": "code",
   "execution_count": null,
   "metadata": {
    "collapsed": false,
    "deletable": true,
    "editable": true
   },
   "outputs": [],
   "source": [
    "#To find the length of the list \n",
    "print(len(mixed_list))\n",
    "\n",
    "#Add 2 lists \n",
    "print(mixed_list + [1,2])\n",
    "\n",
    "#Multiply List\n",
    "print([1,2]*3)\n",
    "\n",
    "#member condition statement\n",
    "19 in mixed_list\n",
    "\n",
    "#Iteration of List\n",
    "#as we have seen already, we can do it using a for loop\n",
    "for item in mixed_list:\n",
    "    print(item)"
   ]
  },
  {
   "cell_type": "markdown",
   "metadata": {
    "deletable": true,
    "editable": true
   },
   "source": [
    "#### Methods used on Lists"
   ]
  },
  {
   "cell_type": "code",
   "execution_count": null,
   "metadata": {
    "collapsed": false,
    "deletable": true,
    "editable": true
   },
   "outputs": [],
   "source": [
    "#Max of given list\n",
    "print(max([1,2,0,4]))\n",
    "\n",
    "#Min of list\n",
    "print(min([1,2,0,4]))\n",
    "\n",
    "list(\"string\")"
   ]
  },
  {
   "cell_type": "markdown",
   "metadata": {
    "deletable": true,
    "editable": true
   },
   "source": [
    "#### Methods from List class "
   ]
  },
  {
   "cell_type": "code",
   "execution_count": null,
   "metadata": {
    "collapsed": false,
    "deletable": true,
    "editable": true,
    "scrolled": true
   },
   "outputs": [],
   "source": [
    "#Assume we are building a Dominos order counter issuing tokens\n",
    "token_list = []\n",
    "\n",
    "#Here we go adding our first order\n",
    "#List append\n",
    "token_list.append(1)\n",
    "print(\"First token added - \",token_list)\n",
    "\n",
    "#count the number of tokens with number 1\n",
    "#List Count\n",
    "print(\"count of token 1 - \",token_list.count(1))\n",
    "\n",
    "#Nice, We got 2 more tokens, lets add them\n",
    "#List extend\n",
    "token_list.extend([2,3])\n",
    "print(\"After extending 2,3 tokens -\",token_list)\n",
    "\n",
    "#First Token served, so lets remove it from tokens list\n",
    "#List remove \n",
    "token_list.remove(1)\n",
    "print(\"First token served from the tokens list - \",token_list,\"\\n\")\n",
    "\n",
    "#mean time a Customer with token 3 is asking what is his status.\n",
    "#List index, insert, pop , \n",
    "print(\"Find the position of Token number 3 - \",token_list.index(3)+1)\n",
    "#Adding one more order 4 at the end\n",
    "token_list.insert(len(token_list),4)\n",
    "\n",
    "#My bad, Customer with token 1 sas not happy with one product, he asked for replacement, so add him back in list\n",
    "token_list.insert(-1,1)\n",
    "print(\"Adding token 1 back to the list - \",token_list,\"\\n\")\n",
    "\n",
    "#Because of inserting 1 order in between the list is distorted. lets sort it and set it right. \n",
    "token_list.sort()\n",
    "print(\"After sorting the token list - \",token_list)\n",
    "\n",
    "#All the orders are ready , so lets call all the orders. \n",
    "#To release the orders from HIghest to lowest, we will reverse it before calling\n",
    "token_list.reverse()\n",
    "print(\"Reversing the token list to serve one after the other\",token_list,\"\\n\")\n",
    "for i in range(max(token_list)):\n",
    "    print(\"Serving customer with token number - \",token_list.pop())    \n",
    "    "
   ]
  },
  {
   "cell_type": "markdown",
   "metadata": {
    "deletable": true,
    "editable": true
   },
   "source": [
    "* For more info about list fucntions [refer this link](https://docs.python.org/3/library/stdtypes.html#sequence-types-list-tuple-range)"
   ]
  }
 ],
 "metadata": {
  "kernelspec": {
   "display_name": "Python 3",
   "language": "python",
   "name": "python3"
  },
  "language_info": {
   "codemirror_mode": {
    "name": "ipython",
    "version": 3
   },
   "file_extension": ".py",
   "mimetype": "text/x-python",
   "name": "python",
   "nbconvert_exporter": "python",
   "pygments_lexer": "ipython3",
   "version": "3.6.3"
  }
 },
 "nbformat": 4,
 "nbformat_minor": 2
}